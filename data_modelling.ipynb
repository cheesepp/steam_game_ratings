{
 "cells": [
  {
   "cell_type": "markdown",
   "metadata": {},
   "source": [
    "<h1 style=\"color:green;\"> DATA MODELLING </h1>\n"
   ]
  },
  {
   "cell_type": "markdown",
   "metadata": {},
   "source": [
    "# 1. Import necessary libraries "
   ]
  },
  {
   "cell_type": "code",
   "execution_count": 34,
   "metadata": {},
   "outputs": [],
   "source": [
    "import pandas as pd\n",
    "import numpy as np\n",
    "import matplotlib.pyplot as plt\n",
    "import matplotlib.cm as cm\n",
    "from sklearn.preprocessing import LabelEncoder\n",
    "from sklearn.feature_selection import mutual_info_regression\n",
    "from sklearn.decomposition import PCA\n",
    "from sklearn.inspection import permutation_importance\n",
    "from sklearn.model_selection import train_test_split\n",
    "from sklearn.model_selection import cross_val_score\n",
    "from sklearn.metrics import mean_squared_error\n",
    "from sklearn.linear_model import LinearRegression\n",
    "from sklearn.tree import DecisionTreeRegressor\n",
    "from sklearn.ensemble import RandomForestRegressor, GradientBoostingRegressor\n",
    "from sklearn.preprocessing import FunctionTransformer, OneHotEncoder, LabelEncoder, MinMaxScaler, TargetEncoder\n",
    "from sklearn.pipeline import Pipeline\n",
    "from sklearn.compose import ColumnTransformer, make_column_transformer\n",
    "from sklearn.model_selection import RandomizedSearchCV, GridSearchCV"
   ]
  },
  {
   "cell_type": "markdown",
   "metadata": {},
   "source": [
    "<h3> Chúng ta sẽ nhìn lại tập dữ liệu sau quá trình tiền xử lý và khai thác </h3>"
   ]
  },
  {
   "cell_type": "code",
   "execution_count": 3,
   "metadata": {},
   "outputs": [],
   "source": [
    "cleaned_df = pd.read_csv('processed_data.csv')"
   ]
  },
  {
   "cell_type": "code",
   "execution_count": 4,
   "metadata": {},
   "outputs": [
    {
     "data": {
      "text/html": [
       "<div>\n",
       "<style scoped>\n",
       "    .dataframe tbody tr th:only-of-type {\n",
       "        vertical-align: middle;\n",
       "    }\n",
       "\n",
       "    .dataframe tbody tr th {\n",
       "        vertical-align: top;\n",
       "    }\n",
       "\n",
       "    .dataframe thead th {\n",
       "        text-align: right;\n",
       "    }\n",
       "</style>\n",
       "<table border=\"1\" class=\"dataframe\">\n",
       "  <thead>\n",
       "    <tr style=\"text-align: right;\">\n",
       "      <th></th>\n",
       "      <th>Title</th>\n",
       "      <th>Genre</th>\n",
       "      <th>withDLC</th>\n",
       "      <th>isMature</th>\n",
       "      <th>Developer</th>\n",
       "      <th>Publisher</th>\n",
       "      <th>PositiveReviews</th>\n",
       "      <th>TotalReviews</th>\n",
       "      <th>NegativeReviews</th>\n",
       "      <th>Price</th>\n",
       "      <th>ReleaseYear</th>\n",
       "      <th>ReleaseMonth</th>\n",
       "      <th>ReleaseDay</th>\n",
       "      <th>Rating</th>\n",
       "    </tr>\n",
       "  </thead>\n",
       "  <tbody>\n",
       "    <tr>\n",
       "      <th>0</th>\n",
       "      <td>Endless Monday: Dreams and Deadlines</td>\n",
       "      <td>Adventure, Indie</td>\n",
       "      <td>0</td>\n",
       "      <td>0</td>\n",
       "      <td>hcnone</td>\n",
       "      <td>hcnone</td>\n",
       "      <td>737</td>\n",
       "      <td>737</td>\n",
       "      <td>0</td>\n",
       "      <td>142000.0</td>\n",
       "      <td>2023</td>\n",
       "      <td>5</td>\n",
       "      <td>4</td>\n",
       "      <td>0.931514</td>\n",
       "    </tr>\n",
       "    <tr>\n",
       "      <th>1</th>\n",
       "      <td>Papa's Freezeria Deluxe</td>\n",
       "      <td>Action, Casual, Indie, Simulation, Strategy</td>\n",
       "      <td>0</td>\n",
       "      <td>0</td>\n",
       "      <td>Flipline Studios</td>\n",
       "      <td>Flipline Studios</td>\n",
       "      <td>6514</td>\n",
       "      <td>6562</td>\n",
       "      <td>48</td>\n",
       "      <td>87500.0</td>\n",
       "      <td>2023</td>\n",
       "      <td>3</td>\n",
       "      <td>31</td>\n",
       "      <td>0.957730</td>\n",
       "    </tr>\n",
       "    <tr>\n",
       "      <th>2</th>\n",
       "      <td>Cats Hidden in Jingle Jam</td>\n",
       "      <td>Casual, Indie, Free to Play</td>\n",
       "      <td>0</td>\n",
       "      <td>0</td>\n",
       "      <td>Travellin Cats</td>\n",
       "      <td>Travellin Cats</td>\n",
       "      <td>5097</td>\n",
       "      <td>5108</td>\n",
       "      <td>11</td>\n",
       "      <td>0.0</td>\n",
       "      <td>2023</td>\n",
       "      <td>12</td>\n",
       "      <td>1</td>\n",
       "      <td>0.959760</td>\n",
       "    </tr>\n",
       "    <tr>\n",
       "      <th>3</th>\n",
       "      <td>An Arcade Full of Cats</td>\n",
       "      <td>Casual, Indie, Free to Play</td>\n",
       "      <td>1</td>\n",
       "      <td>0</td>\n",
       "      <td>Devcats</td>\n",
       "      <td>Devcats</td>\n",
       "      <td>3018</td>\n",
       "      <td>3045</td>\n",
       "      <td>27</td>\n",
       "      <td>0.0</td>\n",
       "      <td>2023</td>\n",
       "      <td>11</td>\n",
       "      <td>16</td>\n",
       "      <td>0.947230</td>\n",
       "    </tr>\n",
       "    <tr>\n",
       "      <th>4</th>\n",
       "      <td>Ib</td>\n",
       "      <td>Adventure, Indie</td>\n",
       "      <td>0</td>\n",
       "      <td>0</td>\n",
       "      <td>kouri</td>\n",
       "      <td>PLAYISM</td>\n",
       "      <td>3068</td>\n",
       "      <td>3098</td>\n",
       "      <td>30</td>\n",
       "      <td>150000.0</td>\n",
       "      <td>2022</td>\n",
       "      <td>4</td>\n",
       "      <td>11</td>\n",
       "      <td>0.946714</td>\n",
       "    </tr>\n",
       "    <tr>\n",
       "      <th>5</th>\n",
       "      <td>Lil Gator Game</td>\n",
       "      <td>Action, Adventure, Casual, Indie</td>\n",
       "      <td>0</td>\n",
       "      <td>0</td>\n",
       "      <td>MegaWobble</td>\n",
       "      <td>Playtonic Friends</td>\n",
       "      <td>3363</td>\n",
       "      <td>3395</td>\n",
       "      <td>32</td>\n",
       "      <td>260000.0</td>\n",
       "      <td>2022</td>\n",
       "      <td>12</td>\n",
       "      <td>14</td>\n",
       "      <td>0.948134</td>\n",
       "    </tr>\n",
       "    <tr>\n",
       "      <th>6</th>\n",
       "      <td>星空列车与白的旅行</td>\n",
       "      <td>Adventure</td>\n",
       "      <td>1</td>\n",
       "      <td>1</td>\n",
       "      <td>しらたまこ</td>\n",
       "      <td>inc.ZOFE</td>\n",
       "      <td>3056</td>\n",
       "      <td>3083</td>\n",
       "      <td>27</td>\n",
       "      <td>188000.0</td>\n",
       "      <td>2021</td>\n",
       "      <td>5</td>\n",
       "      <td>14</td>\n",
       "      <td>0.947493</td>\n",
       "    </tr>\n",
       "    <tr>\n",
       "      <th>7</th>\n",
       "      <td>Patrick's Parabox</td>\n",
       "      <td>Casual, Indie, Strategy</td>\n",
       "      <td>1</td>\n",
       "      <td>0</td>\n",
       "      <td>Patrick Traynor</td>\n",
       "      <td>Patrick Traynor</td>\n",
       "      <td>2800</td>\n",
       "      <td>2820</td>\n",
       "      <td>20</td>\n",
       "      <td>260000.0</td>\n",
       "      <td>2022</td>\n",
       "      <td>3</td>\n",
       "      <td>29</td>\n",
       "      <td>0.947817</td>\n",
       "    </tr>\n",
       "    <tr>\n",
       "      <th>8</th>\n",
       "      <td>A Castle Full of Cats</td>\n",
       "      <td>Adventure, Casual</td>\n",
       "      <td>1</td>\n",
       "      <td>0</td>\n",
       "      <td>Devcats</td>\n",
       "      <td>Devcats</td>\n",
       "      <td>2512</td>\n",
       "      <td>2526</td>\n",
       "      <td>14</td>\n",
       "      <td>36000.0</td>\n",
       "      <td>2022</td>\n",
       "      <td>11</td>\n",
       "      <td>9</td>\n",
       "      <td>0.947701</td>\n",
       "    </tr>\n",
       "    <tr>\n",
       "      <th>9</th>\n",
       "      <td>Dialtown: Phone Dating Sim</td>\n",
       "      <td>Casual, Indie</td>\n",
       "      <td>1</td>\n",
       "      <td>1</td>\n",
       "      <td>DirectDoggo</td>\n",
       "      <td>DirectDoggo</td>\n",
       "      <td>1316</td>\n",
       "      <td>1324</td>\n",
       "      <td>8</td>\n",
       "      <td>115000.0</td>\n",
       "      <td>2022</td>\n",
       "      <td>2</td>\n",
       "      <td>14</td>\n",
       "      <td>0.937228</td>\n",
       "    </tr>\n",
       "  </tbody>\n",
       "</table>\n",
       "</div>"
      ],
      "text/plain": [
       "                                  Title  \\\n",
       "0  Endless Monday: Dreams and Deadlines   \n",
       "1               Papa's Freezeria Deluxe   \n",
       "2             Cats Hidden in Jingle Jam   \n",
       "3                An Arcade Full of Cats   \n",
       "4                                    Ib   \n",
       "5                        Lil Gator Game   \n",
       "6                             星空列车与白的旅行   \n",
       "7                     Patrick's Parabox   \n",
       "8                 A Castle Full of Cats   \n",
       "9            Dialtown: Phone Dating Sim   \n",
       "\n",
       "                                         Genre  withDLC  isMature  \\\n",
       "0                             Adventure, Indie        0         0   \n",
       "1  Action, Casual, Indie, Simulation, Strategy        0         0   \n",
       "2                  Casual, Indie, Free to Play        0         0   \n",
       "3                  Casual, Indie, Free to Play        1         0   \n",
       "4                             Adventure, Indie        0         0   \n",
       "5             Action, Adventure, Casual, Indie        0         0   \n",
       "6                                    Adventure        1         1   \n",
       "7                      Casual, Indie, Strategy        1         0   \n",
       "8                            Adventure, Casual        1         0   \n",
       "9                                Casual, Indie        1         1   \n",
       "\n",
       "          Developer          Publisher  PositiveReviews  TotalReviews  \\\n",
       "0            hcnone             hcnone              737           737   \n",
       "1  Flipline Studios   Flipline Studios             6514          6562   \n",
       "2    Travellin Cats     Travellin Cats             5097          5108   \n",
       "3           Devcats            Devcats             3018          3045   \n",
       "4             kouri            PLAYISM             3068          3098   \n",
       "5        MegaWobble  Playtonic Friends             3363          3395   \n",
       "6             しらたまこ           inc.ZOFE             3056          3083   \n",
       "7   Patrick Traynor    Patrick Traynor             2800          2820   \n",
       "8           Devcats            Devcats             2512          2526   \n",
       "9       DirectDoggo        DirectDoggo             1316          1324   \n",
       "\n",
       "   NegativeReviews     Price  ReleaseYear  ReleaseMonth  ReleaseDay    Rating  \n",
       "0                0  142000.0         2023             5           4  0.931514  \n",
       "1               48   87500.0         2023             3          31  0.957730  \n",
       "2               11       0.0         2023            12           1  0.959760  \n",
       "3               27       0.0         2023            11          16  0.947230  \n",
       "4               30  150000.0         2022             4          11  0.946714  \n",
       "5               32  260000.0         2022            12          14  0.948134  \n",
       "6               27  188000.0         2021             5          14  0.947493  \n",
       "7               20  260000.0         2022             3          29  0.947817  \n",
       "8               14   36000.0         2022            11           9  0.947701  \n",
       "9                8  115000.0         2022             2          14  0.937228  "
      ]
     },
     "execution_count": 4,
     "metadata": {},
     "output_type": "execute_result"
    }
   ],
   "source": [
    "cleaned_df.head(10)"
   ]
  },
  {
   "cell_type": "markdown",
   "metadata": {},
   "source": [
    "### Để có thể nhìn nhận rõ mối quan hệ giữa các cột lý tưởng để làm feature cho model và cột target **Rating**, ta sẽ dùng **Mutual Information** "
   ]
  },
  {
   "cell_type": "markdown",
   "metadata": {},
   "source": [
    "#### Ta nhận thấy cột '**Title**' chỉ đơn giản là các giá trị thể hiện tên của các trò chơi điện tử trong tập dữ liệu, ta có thể suy đoán nó không mang lại ý nghĩa hay mối quan hệ gì với cột target '**Rating**'"
   ]
  },
  {
   "cell_type": "code",
   "execution_count": 5,
   "metadata": {},
   "outputs": [],
   "source": [
    "cleaned_df.drop(columns = ['Title'], inplace = True)"
   ]
  },
  {
   "cell_type": "code",
   "execution_count": 6,
   "metadata": {},
   "outputs": [
    {
     "data": {
      "image/png": "[encoded data removed]",
      "text/plain": [
       "<Figure size 1500x1500 with 1 Axes>"
      ]
     },
     "metadata": {},
     "output_type": "display_data"
    }
   ],
   "source": [
    "X = cleaned_df.drop(columns = 'Rating')\n",
    "y = cleaned_df['Rating']\n",
    "numeric_X = X.select_dtypes(include='number')\n",
    "mi_scores = mutual_info_regression(numeric_X, y)\n",
    "mi_scores = pd.Series(mi_scores, index = numeric_X.columns).sort_values(ascending = True)\n",
    "\n",
    "plt.figure(figsize = (15, 15))\n",
    "mi_scores.plot.barh()\n",
    "plt.show()"
   ]
  },
  {
   "cell_type": "markdown",
   "metadata": {},
   "source": [
    "#### Ta có thể thấy mặc dù cột '**Genre**' có sự ảnh hưởng đến '**Rating**' hay không thì tại vì sau khi one-hot encode nó cùng với các giá trị khác biệt rất cao, mỗi cột 'Genre_*' đại diện cho một giá trị đấy nên đã kéo thấp giá trị mutual information\n",
    "\n",
    "Ta dùng PCA để giảm chiều các cột **'Genre_'**, sau đó xét lại mối quan hệ"
   ]
  },
  {
   "cell_type": "code",
   "execution_count": 7,
   "metadata": {},
   "outputs": [],
   "source": [
    "# from sklearn.decomposition import PCA\n",
    "\n",
    "# genre_cols = [col for col in X.columns if 'Genre_' in col]\n",
    "# pca = PCA(n_components=1)\n",
    "# X['Genre_pca'] = pca.fit_transform(X[genre_cols])\n",
    "# mi_scores = mutual_info_regression(X[['Genre_pca']], y)\n",
    "# mi_scores"
   ]
  },
  {
   "cell_type": "markdown",
   "metadata": {},
   "source": [
    "Phải chăng ngày phát hành thật sự không ảnh hưởng gì đến Rating của game ta sẽ phân ra model dựa trên các features có bao gồm Release Date và model không dựa trên"
   ]
  },
  {
   "cell_type": "markdown",
   "metadata": {},
   "source": [
    "## Pipeline cho bước tiền xử lí\n",
    "Đầu tiên, ta sẽ tìm những cột dữ liệu không là kiểu dữ liệu số:"
   ]
  },
  {
   "cell_type": "code",
   "execution_count": 8,
   "metadata": {},
   "outputs": [
    {
     "data": {
      "text/html": [
       "<div>\n",
       "<style scoped>\n",
       "    .dataframe tbody tr th:only-of-type {\n",
       "        vertical-align: middle;\n",
       "    }\n",
       "\n",
       "    .dataframe tbody tr th {\n",
       "        vertical-align: top;\n",
       "    }\n",
       "\n",
       "    .dataframe thead th {\n",
       "        text-align: right;\n",
       "    }\n",
       "</style>\n",
       "<table border=\"1\" class=\"dataframe\">\n",
       "  <thead>\n",
       "    <tr style=\"text-align: right;\">\n",
       "      <th></th>\n",
       "      <th>Genre</th>\n",
       "      <th>Developer</th>\n",
       "      <th>Publisher</th>\n",
       "    </tr>\n",
       "  </thead>\n",
       "  <tbody>\n",
       "    <tr>\n",
       "      <th>0</th>\n",
       "      <td>Adventure, Indie</td>\n",
       "      <td>hcnone</td>\n",
       "      <td>hcnone</td>\n",
       "    </tr>\n",
       "    <tr>\n",
       "      <th>1</th>\n",
       "      <td>Action, Casual, Indie, Simulation, Strategy</td>\n",
       "      <td>Flipline Studios</td>\n",
       "      <td>Flipline Studios</td>\n",
       "    </tr>\n",
       "    <tr>\n",
       "      <th>2</th>\n",
       "      <td>Casual, Indie, Free to Play</td>\n",
       "      <td>Travellin Cats</td>\n",
       "      <td>Travellin Cats</td>\n",
       "    </tr>\n",
       "    <tr>\n",
       "      <th>3</th>\n",
       "      <td>Casual, Indie, Free to Play</td>\n",
       "      <td>Devcats</td>\n",
       "      <td>Devcats</td>\n",
       "    </tr>\n",
       "    <tr>\n",
       "      <th>4</th>\n",
       "      <td>Adventure, Indie</td>\n",
       "      <td>kouri</td>\n",
       "      <td>PLAYISM</td>\n",
       "    </tr>\n",
       "    <tr>\n",
       "      <th>...</th>\n",
       "      <td>...</td>\n",
       "      <td>...</td>\n",
       "      <td>...</td>\n",
       "    </tr>\n",
       "    <tr>\n",
       "      <th>2719</th>\n",
       "      <td>Adventure, Indie</td>\n",
       "      <td>Gugames</td>\n",
       "      <td>Gugames</td>\n",
       "    </tr>\n",
       "    <tr>\n",
       "      <th>2720</th>\n",
       "      <td>Action, Casual</td>\n",
       "      <td>Zanthous</td>\n",
       "      <td>Zanthous</td>\n",
       "    </tr>\n",
       "    <tr>\n",
       "      <th>2721</th>\n",
       "      <td>Adventure</td>\n",
       "      <td>Eyeguys</td>\n",
       "      <td>Santa Ragione</td>\n",
       "    </tr>\n",
       "    <tr>\n",
       "      <th>2722</th>\n",
       "      <td>Action, Adventure, Casual, Indie, Sports</td>\n",
       "      <td>Agera Games</td>\n",
       "      <td>Vertigo Games</td>\n",
       "    </tr>\n",
       "    <tr>\n",
       "      <th>2723</th>\n",
       "      <td>Adventure, Casual</td>\n",
       "      <td>aNCHOR Inc.</td>\n",
       "      <td>aNCHOR Inc.</td>\n",
       "    </tr>\n",
       "  </tbody>\n",
       "</table>\n",
       "<p>2724 rows × 3 columns</p>\n",
       "</div>"
      ],
      "text/plain": [
       "                                            Genre         Developer  \\\n",
       "0                                Adventure, Indie            hcnone   \n",
       "1     Action, Casual, Indie, Simulation, Strategy  Flipline Studios   \n",
       "2                     Casual, Indie, Free to Play    Travellin Cats   \n",
       "3                     Casual, Indie, Free to Play           Devcats   \n",
       "4                                Adventure, Indie             kouri   \n",
       "...                                           ...               ...   \n",
       "2719                             Adventure, Indie           Gugames   \n",
       "2720                               Action, Casual          Zanthous   \n",
       "2721                                    Adventure           Eyeguys   \n",
       "2722     Action, Adventure, Casual, Indie, Sports       Agera Games   \n",
       "2723                            Adventure, Casual       aNCHOR Inc.   \n",
       "\n",
       "             Publisher  \n",
       "0               hcnone  \n",
       "1     Flipline Studios  \n",
       "2       Travellin Cats  \n",
       "3              Devcats  \n",
       "4              PLAYISM  \n",
       "...                ...  \n",
       "2719           Gugames  \n",
       "2720          Zanthous  \n",
       "2721     Santa Ragione  \n",
       "2722     Vertigo Games  \n",
       "2723       aNCHOR Inc.  \n",
       "\n",
       "[2724 rows x 3 columns]"
      ]
     },
     "execution_count": 8,
     "metadata": {},
     "output_type": "execute_result"
    }
   ],
   "source": [
    "cat_df = cleaned_df.select_dtypes(include='object')\n",
    "cat_df"
   ]
  },
  {
   "cell_type": "markdown",
   "metadata": {},
   "source": [
    "Do `Genre` là cột mà mỗi sample có thể có một hoặc nhiều thể loại, do đó phương pháp encoding phù hợp nhất hiện tại là `One Hot Encoding`.\n",
    "Ta có 2 cột `Developer` và `Publisher` là 2 cột không phải là dữ liệu số, ta sẽ tiến hành encode 2 cột này bằng `TargetEncoder`. Lí do không sử dụng One hot encoding do lo ngại việc quá nhiều cột ảnh hưởng đến hiệu năng của mô hình."
   ]
  },
  {
   "cell_type": "markdown",
   "metadata": {},
   "source": [
    "Ta scale các cột dữ liệu số cho model (Những cột có tiền tố `Genre` sẽ không được đưa vào vì nó là những cột `category` được encode, không phải là dữ liệu số thuần túy)."
   ]
  },
  {
   "cell_type": "code",
   "execution_count": 9,
   "metadata": {},
   "outputs": [
    {
     "data": {
      "text/html": [
       "<div>\n",
       "<style scoped>\n",
       "    .dataframe tbody tr th:only-of-type {\n",
       "        vertical-align: middle;\n",
       "    }\n",
       "\n",
       "    .dataframe tbody tr th {\n",
       "        vertical-align: top;\n",
       "    }\n",
       "\n",
       "    .dataframe thead th {\n",
       "        text-align: right;\n",
       "    }\n",
       "</style>\n",
       "<table border=\"1\" class=\"dataframe\">\n",
       "  <thead>\n",
       "    <tr style=\"text-align: right;\">\n",
       "      <th></th>\n",
       "      <th>withDLC</th>\n",
       "      <th>isMature</th>\n",
       "      <th>PositiveReviews</th>\n",
       "      <th>TotalReviews</th>\n",
       "      <th>NegativeReviews</th>\n",
       "      <th>Price</th>\n",
       "      <th>ReleaseYear</th>\n",
       "      <th>ReleaseMonth</th>\n",
       "      <th>ReleaseDay</th>\n",
       "    </tr>\n",
       "  </thead>\n",
       "  <tbody>\n",
       "    <tr>\n",
       "      <th>0</th>\n",
       "      <td>0</td>\n",
       "      <td>0</td>\n",
       "      <td>737</td>\n",
       "      <td>737</td>\n",
       "      <td>0</td>\n",
       "      <td>142000.0</td>\n",
       "      <td>2023</td>\n",
       "      <td>5</td>\n",
       "      <td>4</td>\n",
       "    </tr>\n",
       "    <tr>\n",
       "      <th>1</th>\n",
       "      <td>0</td>\n",
       "      <td>0</td>\n",
       "      <td>6514</td>\n",
       "      <td>6562</td>\n",
       "      <td>48</td>\n",
       "      <td>87500.0</td>\n",
       "      <td>2023</td>\n",
       "      <td>3</td>\n",
       "      <td>31</td>\n",
       "    </tr>\n",
       "    <tr>\n",
       "      <th>2</th>\n",
       "      <td>0</td>\n",
       "      <td>0</td>\n",
       "      <td>5097</td>\n",
       "      <td>5108</td>\n",
       "      <td>11</td>\n",
       "      <td>0.0</td>\n",
       "      <td>2023</td>\n",
       "      <td>12</td>\n",
       "      <td>1</td>\n",
       "    </tr>\n",
       "    <tr>\n",
       "      <th>3</th>\n",
       "      <td>1</td>\n",
       "      <td>0</td>\n",
       "      <td>3018</td>\n",
       "      <td>3045</td>\n",
       "      <td>27</td>\n",
       "      <td>0.0</td>\n",
       "      <td>2023</td>\n",
       "      <td>11</td>\n",
       "      <td>16</td>\n",
       "    </tr>\n",
       "    <tr>\n",
       "      <th>4</th>\n",
       "      <td>0</td>\n",
       "      <td>0</td>\n",
       "      <td>3068</td>\n",
       "      <td>3098</td>\n",
       "      <td>30</td>\n",
       "      <td>150000.0</td>\n",
       "      <td>2022</td>\n",
       "      <td>4</td>\n",
       "      <td>11</td>\n",
       "    </tr>\n",
       "    <tr>\n",
       "      <th>...</th>\n",
       "      <td>...</td>\n",
       "      <td>...</td>\n",
       "      <td>...</td>\n",
       "      <td>...</td>\n",
       "      <td>...</td>\n",
       "      <td>...</td>\n",
       "      <td>...</td>\n",
       "      <td>...</td>\n",
       "      <td>...</td>\n",
       "    </tr>\n",
       "    <tr>\n",
       "      <th>2719</th>\n",
       "      <td>0</td>\n",
       "      <td>0</td>\n",
       "      <td>61</td>\n",
       "      <td>61</td>\n",
       "      <td>0</td>\n",
       "      <td>170000.0</td>\n",
       "      <td>2023</td>\n",
       "      <td>11</td>\n",
       "      <td>10</td>\n",
       "    </tr>\n",
       "    <tr>\n",
       "      <th>2720</th>\n",
       "      <td>0</td>\n",
       "      <td>0</td>\n",
       "      <td>34</td>\n",
       "      <td>34</td>\n",
       "      <td>0</td>\n",
       "      <td>59000.0</td>\n",
       "      <td>2023</td>\n",
       "      <td>11</td>\n",
       "      <td>27</td>\n",
       "    </tr>\n",
       "    <tr>\n",
       "      <th>2721</th>\n",
       "      <td>1</td>\n",
       "      <td>1</td>\n",
       "      <td>36</td>\n",
       "      <td>36</td>\n",
       "      <td>0</td>\n",
       "      <td>137350.0</td>\n",
       "      <td>2023</td>\n",
       "      <td>8</td>\n",
       "      <td>24</td>\n",
       "    </tr>\n",
       "    <tr>\n",
       "      <th>2722</th>\n",
       "      <td>0</td>\n",
       "      <td>0</td>\n",
       "      <td>40</td>\n",
       "      <td>40</td>\n",
       "      <td>0</td>\n",
       "      <td>131600.0</td>\n",
       "      <td>2023</td>\n",
       "      <td>9</td>\n",
       "      <td>7</td>\n",
       "    </tr>\n",
       "    <tr>\n",
       "      <th>2723</th>\n",
       "      <td>0</td>\n",
       "      <td>1</td>\n",
       "      <td>29</td>\n",
       "      <td>29</td>\n",
       "      <td>0</td>\n",
       "      <td>439000.0</td>\n",
       "      <td>2023</td>\n",
       "      <td>11</td>\n",
       "      <td>14</td>\n",
       "    </tr>\n",
       "  </tbody>\n",
       "</table>\n",
       "<p>2724 rows × 9 columns</p>\n",
       "</div>"
      ],
      "text/plain": [
       "      withDLC  isMature  PositiveReviews  TotalReviews  NegativeReviews  \\\n",
       "0           0         0              737           737                0   \n",
       "1           0         0             6514          6562               48   \n",
       "2           0         0             5097          5108               11   \n",
       "3           1         0             3018          3045               27   \n",
       "4           0         0             3068          3098               30   \n",
       "...       ...       ...              ...           ...              ...   \n",
       "2719        0         0               61            61                0   \n",
       "2720        0         0               34            34                0   \n",
       "2721        1         1               36            36                0   \n",
       "2722        0         0               40            40                0   \n",
       "2723        0         1               29            29                0   \n",
       "\n",
       "         Price  ReleaseYear  ReleaseMonth  ReleaseDay  \n",
       "0     142000.0         2023             5           4  \n",
       "1      87500.0         2023             3          31  \n",
       "2          0.0         2023            12           1  \n",
       "3          0.0         2023            11          16  \n",
       "4     150000.0         2022             4          11  \n",
       "...        ...          ...           ...         ...  \n",
       "2719  170000.0         2023            11          10  \n",
       "2720   59000.0         2023            11          27  \n",
       "2721  137350.0         2023             8          24  \n",
       "2722  131600.0         2023             9           7  \n",
       "2723  439000.0         2023            11          14  \n",
       "\n",
       "[2724 rows x 9 columns]"
      ]
     },
     "execution_count": 9,
     "metadata": {},
     "output_type": "execute_result"
    }
   ],
   "source": [
    "numeric_df = X.select_dtypes(include='number')\n",
    "numeric_df"
   ]
  },
  {
   "cell_type": "code",
   "execution_count": 10,
   "metadata": {},
   "outputs": [],
   "source": [
    "# Lấy những cột categorical và numerical\n",
    "cat_cols = cat_df.columns\n",
    "numeric_cols = numeric_df.columns\n",
    "        \n",
    "# Pipeline xử lý cho các cột category\n",
    "target_encode_transformer = Pipeline(steps= [('TargetEncoder', TargetEncoder())])\n",
    "onehot_encode_transformer = Pipeline( steps=[\n",
    "    ('OneHotEncoder', OneHotEncoder(handle_unknown='ignore'))])\n",
    "\n",
    "# Pipeline xử lý cho các cột numeric\n",
    "numeric_transfomer = Pipeline(steps= [('scaler', MinMaxScaler())])  # scale các giá trị về miền giá trị trong khoảng 0 đến 1 \n",
    "\n",
    "\n",
    "# Pipeline cho quá trình tiền xử lí\n",
    "preprocessor = ColumnTransformer(\n",
    "    transformers=[\n",
    "        ('one_hot_transformer', onehot_encode_transformer, [cat_cols[0]]), # Sử dụng One Hot Encoding cho cột Genre\n",
    "        ('target_transformer', target_encode_transformer, list(cat_cols[1:])), # Sử dụng Target Encoding cho Publisher và Developer\n",
    "        ('numeric_transfomer', numeric_transfomer, list(numeric_cols)),\n",
    "    ],\n",
    "    remainder='passthrough'  # keep the non-transformed columns\n",
    ")"
   ]
  },
  {
   "cell_type": "markdown",
   "metadata": {},
   "source": [
    "#### Validation"
   ]
  },
  {
   "cell_type": "code",
   "execution_count": 11,
   "metadata": {},
   "outputs": [],
   "source": [
    "def Cross_val_scores(model, X_val, y_val):\n",
    "    scores = -1 * cross_val_score(model, X_val, y_val, cv = 5, scoring = 'neg_mean_squared_error', error_score='raise')\n",
    "    \n",
    "    return np.sqrt(scores).mean()"
   ]
  },
  {
   "cell_type": "code",
   "execution_count": 12,
   "metadata": {},
   "outputs": [],
   "source": [
    "models = [('Linear Regression', LinearRegression()), \n",
    "          ('Decision Tree', DecisionTreeRegressor()),\n",
    "          ('Random Forest', RandomForestRegressor()),\n",
    "          ('Gradient Boosting', GradientBoostingRegressor())]"
   ]
  },
  {
   "cell_type": "markdown",
   "metadata": {},
   "source": [
    "##### Features chứa Release Date"
   ]
  },
  {
   "cell_type": "code",
   "execution_count": 13,
   "metadata": {},
   "outputs": [],
   "source": [
    "X = cleaned_df.drop('Rating', axis = 1)\n",
    "y = cleaned_df['Rating']"
   ]
  },
  {
   "cell_type": "code",
   "execution_count": 14,
   "metadata": {},
   "outputs": [
    {
     "data": {
      "text/html": [
       "<div>\n",
       "<style scoped>\n",
       "    .dataframe tbody tr th:only-of-type {\n",
       "        vertical-align: middle;\n",
       "    }\n",
       "\n",
       "    .dataframe tbody tr th {\n",
       "        vertical-align: top;\n",
       "    }\n",
       "\n",
       "    .dataframe thead th {\n",
       "        text-align: right;\n",
       "    }\n",
       "</style>\n",
       "<table border=\"1\" class=\"dataframe\">\n",
       "  <thead>\n",
       "    <tr style=\"text-align: right;\">\n",
       "      <th></th>\n",
       "      <th>Genre</th>\n",
       "      <th>withDLC</th>\n",
       "      <th>isMature</th>\n",
       "      <th>Developer</th>\n",
       "      <th>Publisher</th>\n",
       "      <th>PositiveReviews</th>\n",
       "      <th>TotalReviews</th>\n",
       "      <th>NegativeReviews</th>\n",
       "      <th>Price</th>\n",
       "      <th>ReleaseYear</th>\n",
       "      <th>ReleaseMonth</th>\n",
       "      <th>ReleaseDay</th>\n",
       "    </tr>\n",
       "  </thead>\n",
       "  <tbody>\n",
       "    <tr>\n",
       "      <th>2522</th>\n",
       "      <td>Simulation, Strategy</td>\n",
       "      <td>1</td>\n",
       "      <td>0</td>\n",
       "      <td>Mohawk Games</td>\n",
       "      <td>Hooded Horse</td>\n",
       "      <td>2129</td>\n",
       "      <td>2629</td>\n",
       "      <td>500</td>\n",
       "      <td>374250.0</td>\n",
       "      <td>2022</td>\n",
       "      <td>5</td>\n",
       "      <td>18</td>\n",
       "    </tr>\n",
       "    <tr>\n",
       "      <th>0</th>\n",
       "      <td>Adventure, Indie</td>\n",
       "      <td>0</td>\n",
       "      <td>0</td>\n",
       "      <td>hcnone</td>\n",
       "      <td>hcnone</td>\n",
       "      <td>737</td>\n",
       "      <td>737</td>\n",
       "      <td>0</td>\n",
       "      <td>142000.0</td>\n",
       "      <td>2023</td>\n",
       "      <td>5</td>\n",
       "      <td>4</td>\n",
       "    </tr>\n",
       "    <tr>\n",
       "      <th>1310</th>\n",
       "      <td>Casual, Indie, Simulation</td>\n",
       "      <td>0</td>\n",
       "      <td>0</td>\n",
       "      <td>Freaking Games</td>\n",
       "      <td>Iceberg Interactive</td>\n",
       "      <td>2934</td>\n",
       "      <td>3263</td>\n",
       "      <td>329</td>\n",
       "      <td>321000.0</td>\n",
       "      <td>2022</td>\n",
       "      <td>9</td>\n",
       "      <td>14</td>\n",
       "    </tr>\n",
       "    <tr>\n",
       "      <th>1834</th>\n",
       "      <td>Adventure, Casual, Indie</td>\n",
       "      <td>0</td>\n",
       "      <td>0</td>\n",
       "      <td>Team HalfBeard</td>\n",
       "      <td>Team HalfBeard</td>\n",
       "      <td>1780</td>\n",
       "      <td>2086</td>\n",
       "      <td>306</td>\n",
       "      <td>165000.0</td>\n",
       "      <td>2018</td>\n",
       "      <td>6</td>\n",
       "      <td>1</td>\n",
       "    </tr>\n",
       "    <tr>\n",
       "      <th>1077</th>\n",
       "      <td>Simulation, Strategy</td>\n",
       "      <td>1</td>\n",
       "      <td>0</td>\n",
       "      <td>Pomelo Games</td>\n",
       "      <td>Pomelo Games</td>\n",
       "      <td>194</td>\n",
       "      <td>210</td>\n",
       "      <td>16</td>\n",
       "      <td>205000.0</td>\n",
       "      <td>2023</td>\n",
       "      <td>3</td>\n",
       "      <td>7</td>\n",
       "    </tr>\n",
       "    <tr>\n",
       "      <th>...</th>\n",
       "      <td>...</td>\n",
       "      <td>...</td>\n",
       "      <td>...</td>\n",
       "      <td>...</td>\n",
       "      <td>...</td>\n",
       "      <td>...</td>\n",
       "      <td>...</td>\n",
       "      <td>...</td>\n",
       "      <td>...</td>\n",
       "      <td>...</td>\n",
       "      <td>...</td>\n",
       "      <td>...</td>\n",
       "    </tr>\n",
       "    <tr>\n",
       "      <th>1214</th>\n",
       "      <td>Adventure, Casual, Indie, RPG, Simulation</td>\n",
       "      <td>0</td>\n",
       "      <td>0</td>\n",
       "      <td>Glumberland</td>\n",
       "      <td>Glumberland</td>\n",
       "      <td>769</td>\n",
       "      <td>833</td>\n",
       "      <td>64</td>\n",
       "      <td>385000.0</td>\n",
       "      <td>2023</td>\n",
       "      <td>10</td>\n",
       "      <td>5</td>\n",
       "    </tr>\n",
       "    <tr>\n",
       "      <th>1889</th>\n",
       "      <td>Action, Casual, Indie, RPG, Simulation</td>\n",
       "      <td>0</td>\n",
       "      <td>1</td>\n",
       "      <td>GTGD</td>\n",
       "      <td>GTGD</td>\n",
       "      <td>321</td>\n",
       "      <td>368</td>\n",
       "      <td>47</td>\n",
       "      <td>45000.0</td>\n",
       "      <td>2023</td>\n",
       "      <td>6</td>\n",
       "      <td>26</td>\n",
       "    </tr>\n",
       "    <tr>\n",
       "      <th>1013</th>\n",
       "      <td>Indie, Simulation</td>\n",
       "      <td>1</td>\n",
       "      <td>1</td>\n",
       "      <td>The Men Who Wear Many Hats</td>\n",
       "      <td>The Men Who Wear Many Hats</td>\n",
       "      <td>1418</td>\n",
       "      <td>1524</td>\n",
       "      <td>106</td>\n",
       "      <td>188000.0</td>\n",
       "      <td>2020</td>\n",
       "      <td>2</td>\n",
       "      <td>25</td>\n",
       "    </tr>\n",
       "    <tr>\n",
       "      <th>2221</th>\n",
       "      <td>Strategy</td>\n",
       "      <td>1</td>\n",
       "      <td>0</td>\n",
       "      <td>Dimps Corporation</td>\n",
       "      <td>BANDAI NAMCO Entertainment</td>\n",
       "      <td>1348</td>\n",
       "      <td>1594</td>\n",
       "      <td>246</td>\n",
       "      <td>106000.0</td>\n",
       "      <td>2019</td>\n",
       "      <td>4</td>\n",
       "      <td>4</td>\n",
       "    </tr>\n",
       "    <tr>\n",
       "      <th>1171</th>\n",
       "      <td>Action</td>\n",
       "      <td>0</td>\n",
       "      <td>0</td>\n",
       "      <td>Red Storm Entertainment</td>\n",
       "      <td>Ubisoft</td>\n",
       "      <td>1577</td>\n",
       "      <td>1717</td>\n",
       "      <td>140</td>\n",
       "      <td>20750.0</td>\n",
       "      <td>2003</td>\n",
       "      <td>3</td>\n",
       "      <td>18</td>\n",
       "    </tr>\n",
       "  </tbody>\n",
       "</table>\n",
       "<p>1634 rows × 12 columns</p>\n",
       "</div>"
      ],
      "text/plain": [
       "                                          Genre  withDLC  isMature  \\\n",
       "2522                       Simulation, Strategy        1         0   \n",
       "0                              Adventure, Indie        0         0   \n",
       "1310                  Casual, Indie, Simulation        0         0   \n",
       "1834                   Adventure, Casual, Indie        0         0   \n",
       "1077                       Simulation, Strategy        1         0   \n",
       "...                                         ...      ...       ...   \n",
       "1214  Adventure, Casual, Indie, RPG, Simulation        0         0   \n",
       "1889     Action, Casual, Indie, RPG, Simulation        0         1   \n",
       "1013                          Indie, Simulation        1         1   \n",
       "2221                                   Strategy        1         0   \n",
       "1171                                     Action        0         0   \n",
       "\n",
       "                       Developer                   Publisher  PositiveReviews  \\\n",
       "2522                Mohawk Games                Hooded Horse             2129   \n",
       "0                         hcnone                      hcnone              737   \n",
       "1310              Freaking Games         Iceberg Interactive             2934   \n",
       "1834              Team HalfBeard              Team HalfBeard             1780   \n",
       "1077                Pomelo Games                Pomelo Games              194   \n",
       "...                          ...                         ...              ...   \n",
       "1214                 Glumberland                 Glumberland              769   \n",
       "1889                        GTGD                        GTGD              321   \n",
       "1013  The Men Who Wear Many Hats  The Men Who Wear Many Hats             1418   \n",
       "2221           Dimps Corporation  BANDAI NAMCO Entertainment             1348   \n",
       "1171     Red Storm Entertainment                     Ubisoft             1577   \n",
       "\n",
       "      TotalReviews  NegativeReviews     Price  ReleaseYear  ReleaseMonth  \\\n",
       "2522          2629              500  374250.0         2022             5   \n",
       "0              737                0  142000.0         2023             5   \n",
       "1310          3263              329  321000.0         2022             9   \n",
       "1834          2086              306  165000.0         2018             6   \n",
       "1077           210               16  205000.0         2023             3   \n",
       "...            ...              ...       ...          ...           ...   \n",
       "1214           833               64  385000.0         2023            10   \n",
       "1889           368               47   45000.0         2023             6   \n",
       "1013          1524              106  188000.0         2020             2   \n",
       "2221          1594              246  106000.0         2019             4   \n",
       "1171          1717              140   20750.0         2003             3   \n",
       "\n",
       "      ReleaseDay  \n",
       "2522          18  \n",
       "0              4  \n",
       "1310          14  \n",
       "1834           1  \n",
       "1077           7  \n",
       "...          ...  \n",
       "1214           5  \n",
       "1889          26  \n",
       "1013          25  \n",
       "2221           4  \n",
       "1171          18  \n",
       "\n",
       "[1634 rows x 12 columns]"
      ]
     },
     "execution_count": 14,
     "metadata": {},
     "output_type": "execute_result"
    }
   ],
   "source": [
    "X_train_val, X_test, y_train_val, y_test = train_test_split(X, y, test_size = 0.2, random_state = 42)\n",
    "\n",
    "X_train, X_val, y_train, y_val = train_test_split(X_train_val, y_train_val, test_size = 0.25, random_state = 42)\n",
    "X_train"
   ]
  },
  {
   "cell_type": "code",
   "execution_count": 15,
   "metadata": {},
   "outputs": [
    {
     "name": "stdout",
     "output_type": "stream",
     "text": [
      "Linear Regression cross-validated score: 0.03602292862954594\n",
      "Decision Tree cross-validated score: 0.010914971283310137\n",
      "Random Forest cross-validated score: 0.006264871604626926\n",
      "Gradient Boosting cross-validated score: 0.008121490778018757\n"
     ]
    }
   ],
   "source": [
    "performances = {} # dict used to store cross_val_scores of each model to examine\n",
    "\n",
    "for name, model in models:\n",
    "    multi_model_pl = Pipeline(\n",
    "    steps=[(\"preprocessor\", preprocessor), ('regression', model)]\n",
    "    )\n",
    "    try:\n",
    "        scores = Cross_val_scores(multi_model_pl, X_train, y_train)\n",
    "        print(f\"{name} cross-validated score:\", scores)\n",
    "        performances[name] = scores\n",
    "    except ValueError as e:\n",
    "        print(\"Error during cross-validation:\", e)"
   ]
  },
  {
   "cell_type": "code",
   "execution_count": 16,
   "metadata": {},
   "outputs": [
    {
     "data": {
      "text/plain": [
       "{'Linear Regression': 0.03602292862954594,\n",
       " 'Decision Tree': 0.010914971283310137,\n",
       " 'Random Forest': 0.006264871604626926,\n",
       " 'Gradient Boosting': 0.008121490778018757}"
      ]
     },
     "execution_count": 16,
     "metadata": {},
     "output_type": "execute_result"
    }
   ],
   "source": [
    "performances"
   ]
  },
  {
   "cell_type": "code",
   "execution_count": 17,
   "metadata": {},
   "outputs": [
    {
     "data": {
      "image/png": "[encoded data removed]",
      "text/plain": [
       "<Figure size 1000x1000 with 1 Axes>"
      ]
     },
     "metadata": {},
     "output_type": "display_data"
    }
   ],
   "source": [
    "plt.figure(figsize = (10, 10))\n",
    "colors = cm.viridis(np.linspace(0, 1, len(performances)))\n",
    "plt.bar(performances.keys(), performances.values(), color = colors)\n",
    "plt.xlabel('Specific model')\n",
    "plt.ylabel('Root mean squared error')\n",
    "plt.title('Performaces of some models')\n",
    "plt.show()"
   ]
  },
  {
   "cell_type": "markdown",
   "metadata": {},
   "source": [
    "#### => Vậy ta chọn được mô hình cho kết quả tốt nhất là Random Forest"
   ]
  },
  {
   "cell_type": "markdown",
   "metadata": {},
   "source": [
    "##### TEST model on test set"
   ]
  },
  {
   "cell_type": "code",
   "execution_count": 18,
   "metadata": {},
   "outputs": [],
   "source": [
    "rf_pl = Pipeline(\n",
    "    steps=[(\"preprocessor\", preprocessor), ('RandomForestRegression', RandomForestRegressor())])\n",
    "\n",
    "rf_pl.fit(X_train, y_train)\n",
    "y_train_pred = rf_pl.predict(X_train)"
   ]
  },
  {
   "cell_type": "code",
   "execution_count": 19,
   "metadata": {},
   "outputs": [
    {
     "name": "stdout",
     "output_type": "stream",
     "text": [
      "Train set: MSE: 6.307025467094287e-06\n",
      "Test set: MSE: 2.0167760750931273e-05\n"
     ]
    }
   ],
   "source": [
    "y_test_pred = rf_pl.predict(X_test)\n",
    "print(f'Train set: MSE: {mean_squared_error(y_train, y_train_pred)}')\n",
    "print(f'Test set: MSE: {mean_squared_error(y_test, y_test_pred)}')"
   ]
  },
  {
   "cell_type": "code",
   "execution_count": 20,
   "metadata": {},
   "outputs": [],
   "source": [
    "# best_model = GradientBoostingRegressor()\n",
    "# best_model.fit(X_train, y_train)\n",
    "# y_pred = best_model.predict(X_test)\n",
    "# rmse_test = np.sqrt(mean_squared_error(y_test, y_pred))\n",
    "# print(f'RMSE on test set: {rmse_test}')"
   ]
  },
  {
   "cell_type": "markdown",
   "metadata": {},
   "source": [
    "# 3. Fine tuning"
   ]
  },
  {
   "cell_type": "markdown",
   "metadata": {},
   "source": [
    "Chúng ta đã xây dựng một mô hình **Random Forest** để giải quyết vấn đề Machine Learning nhưng không quá ấn tượng với kết quả. Lựa chọn của chúng ta là gì? Bước đầu tiên của chúng ta là thu thập thêm dữ liệu và thực hiện **feature engineering**. Việc thu thập thêm dữ liệu và feature engineering thường mang lại lợi ích lớn nhất về mặt thời gian đầu tư so với hiệu suất được cải thiện, nhưng khi chúng ta đã sử dụng hết tất cả các nguồn dữ liệu, đã đến lúc chuyển sang điều chỉnh siêu tham số mô hình `Hyperparameter Tuning`. \n",
    "\n",
    "Xem xét qua các hyperparameter mặc định khi sử dụng mô hình `Random Forest` ở trên:"
   ]
  },
  {
   "cell_type": "code",
   "execution_count": 63,
   "metadata": {},
   "outputs": [
    {
     "data": {
      "text/plain": [
       "{'bootstrap': True,\n",
       " 'ccp_alpha': 0.0,\n",
       " 'criterion': 'squared_error',\n",
       " 'max_depth': None,\n",
       " 'max_features': 1.0,\n",
       " 'max_leaf_nodes': None,\n",
       " 'max_samples': None,\n",
       " 'min_impurity_decrease': 0.0,\n",
       " 'min_samples_leaf': 1,\n",
       " 'min_samples_split': 2,\n",
       " 'min_weight_fraction_leaf': 0.0,\n",
       " 'n_estimators': 100,\n",
       " 'n_jobs': None,\n",
       " 'oob_score': False,\n",
       " 'random_state': None,\n",
       " 'verbose': 0,\n",
       " 'warm_start': False}"
      ]
     },
     "execution_count": 63,
     "metadata": {},
     "output_type": "execute_result"
    }
   ],
   "source": [
    "rf_pl.named_steps['RandomForestRegression'].get_params()"
   ]
  },
  {
   "cell_type": "markdown",
   "metadata": {},
   "source": [
    "Chúng tôi sẽ điều chỉnh bộ hyperparameter sau:\n",
    "\n",
    "- **n_estimators** = số lượng cây trong rừng\n",
    "- **max_features** = số lượng feature tối đa được xem xét để tách một node\n",
    "- **max_deep** = số cấp tối đa trong mỗi cây quyết định\n",
    "- **min_samples_split** = số lượng điểm dữ liệu tối thiểu được đặt trong một node trước khi node được chia\n",
    "- **min_samples_leaf** = số điểm dữ liệu tối thiểu được phép trong node lá\n",
    "- **bootstrap** = phương pháp lấy mẫu điểm dữ liệu (có hoặc không thay thế)\n",
    "\n",
    "## 3.1 Hyperparameter Grid\n",
    "Trước tiên ta tạo một parameter grid để lấy mẫu trong khi thực hiện fit."
   ]
  },
  {
   "cell_type": "code",
   "execution_count": 127,
   "metadata": {},
   "outputs": [
    {
     "data": {
      "text/plain": [
       "{'RandomForestRegression__n_estimators': [10,\n",
       "  17,\n",
       "  25,\n",
       "  33,\n",
       "  41,\n",
       "  48,\n",
       "  56,\n",
       "  64,\n",
       "  72,\n",
       "  80],\n",
       " 'RandomForestRegression__max_features': ['sqrt', 'log2'],\n",
       " 'RandomForestRegression__max_depth': [2, 4],\n",
       " 'RandomForestRegression__min_samples_split': [2, 5],\n",
       " 'RandomForestRegression__min_samples_leaf': [1, 2],\n",
       " 'RandomForestRegression__bootstrap': [True, False]}"
      ]
     },
     "execution_count": 127,
     "metadata": {},
     "output_type": "execute_result"
    }
   ],
   "source": [
    "# Number of trees in random forest\n",
    "n_estimators = [int(x) for x in np.linspace(start = 10, stop = 80, num = 10)]\n",
    "# Number of features to consider at every split\n",
    "max_features = ['sqrt', 'log2']\n",
    "# Maximum number of levels in tree\n",
    "max_depth = [2, 4]\n",
    "# Minimum number of samples required to split a node\n",
    "min_samples_split = [2, 5]\n",
    "# Minimum number of samples required at each leaf node\n",
    "min_samples_leaf = [1, 2]\n",
    "# Method of selecting samples for training each tree\n",
    "bootstrap = [True, False]\n",
    "\n",
    "# Create the random grid\n",
    "random_grid = {\n",
    "    'RandomForestRegression__n_estimators': n_estimators,\n",
    "    'RandomForestRegression__max_features': max_features,\n",
    "    'RandomForestRegression__max_depth': max_depth,\n",
    "    'RandomForestRegression__min_samples_split': min_samples_split,\n",
    "    'RandomForestRegression__min_samples_leaf': min_samples_leaf,\n",
    "    'RandomForestRegression__bootstrap': bootstrap\n",
    "}\n",
    "random_grid"
   ]
  },
  {
   "cell_type": "markdown",
   "metadata": {},
   "source": [
    "#### Tạo model dựa vào Pipeline được định nghĩa ở trên, với model đang xét là Random Forest"
   ]
  },
  {
   "cell_type": "code",
   "execution_count": 126,
   "metadata": {},
   "outputs": [
    {
     "data": {
      "text/html": [
       "<style>#sk-container-id-23 {color: black;}#sk-container-id-23 pre{padding: 0;}#sk-container-id-23 div.sk-toggleable {background-color: white;}#sk-container-id-23 label.sk-toggleable__label {cursor: pointer;display: block;width: 100%;margin-bottom: 0;padding: 0.3em;box-sizing: border-box;text-align: center;}#sk-container-id-23 label.sk-toggleable__label-arrow:before {content: \"▸\";float: left;margin-right: 0.25em;color: #696969;}#sk-container-id-23 label.sk-toggleable__label-arrow:hover:before {color: black;}#sk-container-id-23 div.sk-estimator:hover label.sk-toggleable__label-arrow:before {color: black;}#sk-container-id-23 div.sk-toggleable__content {max-height: 0;max-width: 0;overflow: hidden;text-align: left;background-color: #f0f8ff;}#sk-container-id-23 div.sk-toggleable__content pre {margin: 0.2em;color: black;border-radius: 0.25em;background-color: #f0f8ff;}#sk-container-id-23 input.sk-toggleable__control:checked~div.sk-toggleable__content {max-height: 200px;max-width: 100%;overflow: auto;}#sk-container-id-23 input.sk-toggleable__control:checked~label.sk-toggleable__label-arrow:before {content: \"▾\";}#sk-container-id-23 div.sk-estimator input.sk-toggleable__control:checked~label.sk-toggleable__label {background-color: #d4ebff;}#sk-container-id-23 div.sk-label input.sk-toggleable__control:checked~label.sk-toggleable__label {background-color: #d4ebff;}#sk-container-id-23 input.sk-hidden--visually {border: 0;clip: rect(1px 1px 1px 1px);clip: rect(1px, 1px, 1px, 1px);height: 1px;margin: -1px;overflow: hidden;padding: 0;position: absolute;width: 1px;}#sk-container-id-23 div.sk-estimator {font-family: monospace;background-color: #f0f8ff;border: 1px dotted black;border-radius: 0.25em;box-sizing: border-box;margin-bottom: 0.5em;}#sk-container-id-23 div.sk-estimator:hover {background-color: #d4ebff;}#sk-container-id-23 div.sk-parallel-item::after {content: \"\";width: 100%;border-bottom: 1px solid gray;flex-grow: 1;}#sk-container-id-23 div.sk-label:hover label.sk-toggleable__label {background-color: #d4ebff;}#sk-container-id-23 div.sk-serial::before {content: \"\";position: absolute;border-left: 1px solid gray;box-sizing: border-box;top: 0;bottom: 0;left: 50%;z-index: 0;}#sk-container-id-23 div.sk-serial {display: flex;flex-direction: column;align-items: center;background-color: white;padding-right: 0.2em;padding-left: 0.2em;position: relative;}#sk-container-id-23 div.sk-item {position: relative;z-index: 1;}#sk-container-id-23 div.sk-parallel {display: flex;align-items: stretch;justify-content: center;background-color: white;position: relative;}#sk-container-id-23 div.sk-item::before, #sk-container-id-23 div.sk-parallel-item::before {content: \"\";position: absolute;border-left: 1px solid gray;box-sizing: border-box;top: 0;bottom: 0;left: 50%;z-index: -1;}#sk-container-id-23 div.sk-parallel-item {display: flex;flex-direction: column;z-index: 1;position: relative;background-color: white;}#sk-container-id-23 div.sk-parallel-item:first-child::after {align-self: flex-end;width: 50%;}#sk-container-id-23 div.sk-parallel-item:last-child::after {align-self: flex-start;width: 50%;}#sk-container-id-23 div.sk-parallel-item:only-child::after {width: 0;}#sk-container-id-23 div.sk-dashed-wrapped {border: 1px dashed gray;margin: 0 0.4em 0.5em 0.4em;box-sizing: border-box;padding-bottom: 0.4em;background-color: white;}#sk-container-id-23 div.sk-label label {font-family: monospace;font-weight: bold;display: inline-block;line-height: 1.2em;}#sk-container-id-23 div.sk-label-container {text-align: center;}#sk-container-id-23 div.sk-container {/* jupyter's `normalize.less` sets `[hidden] { display: none; }` but bootstrap.min.css set `[hidden] { display: none !important; }` so we also need the `!important` here to be able to override the default hidden behavior on the sphinx rendered scikit-learn.org. See: https://github.com/scikit-learn/scikit-learn/issues/21755 */display: inline-block !important;position: relative;}#sk-container-id-23 div.sk-text-repr-fallback {display: none;}</style><div id=\"sk-container-id-23\" class=\"sk-top-container\"><div class=\"sk-text-repr-fallback\"><pre>Pipeline(steps=[(&#x27;preprocessor&#x27;,\n",
       "                 ColumnTransformer(remainder=&#x27;passthrough&#x27;,\n",
       "                                   transformers=[(&#x27;one_hot_transformer&#x27;,\n",
       "                                                  Pipeline(steps=[(&#x27;OneHotEncoder&#x27;,\n",
       "                                                                   OneHotEncoder(handle_unknown=&#x27;ignore&#x27;))]),\n",
       "                                                  [&#x27;Genre&#x27;]),\n",
       "                                                 (&#x27;target_transformer&#x27;,\n",
       "                                                  Pipeline(steps=[(&#x27;TargetEncoder&#x27;,\n",
       "                                                                   TargetEncoder())]),\n",
       "                                                  [&#x27;Developer&#x27;, &#x27;Publisher&#x27;]),\n",
       "                                                 (&#x27;numeric_transfomer&#x27;,\n",
       "                                                  Pipeline(steps=[(&#x27;scaler&#x27;,\n",
       "                                                                   MinMaxScaler())]),\n",
       "                                                  [&#x27;withDLC&#x27;, &#x27;isMature&#x27;,\n",
       "                                                   &#x27;PositiveReviews&#x27;,\n",
       "                                                   &#x27;TotalReviews&#x27;,\n",
       "                                                   &#x27;NegativeReviews&#x27;, &#x27;Price&#x27;,\n",
       "                                                   &#x27;ReleaseYear&#x27;,\n",
       "                                                   &#x27;ReleaseMonth&#x27;,\n",
       "                                                   &#x27;ReleaseDay&#x27;])])),\n",
       "                (&#x27;RandomForestRegression&#x27;, RandomForestRegressor())])</pre><b>In a Jupyter environment, please rerun this cell to show the HTML representation or trust the notebook. <br />On GitHub, the HTML representation is unable to render, please try loading this page with nbviewer.org.</b></div><div class=\"sk-container\" hidden><div class=\"sk-item sk-dashed-wrapped\"><div class=\"sk-label-container\"><div class=\"sk-label sk-toggleable\"><input class=\"sk-toggleable__control sk-hidden--visually\" id=\"sk-estimator-id-155\" type=\"checkbox\" ><label for=\"sk-estimator-id-155\" class=\"sk-toggleable__label sk-toggleable__label-arrow\">Pipeline</label><div class=\"sk-toggleable__content\"><pre>Pipeline(steps=[(&#x27;preprocessor&#x27;,\n",
       "                 ColumnTransformer(remainder=&#x27;passthrough&#x27;,\n",
       "                                   transformers=[(&#x27;one_hot_transformer&#x27;,\n",
       "                                                  Pipeline(steps=[(&#x27;OneHotEncoder&#x27;,\n",
       "                                                                   OneHotEncoder(handle_unknown=&#x27;ignore&#x27;))]),\n",
       "                                                  [&#x27;Genre&#x27;]),\n",
       "                                                 (&#x27;target_transformer&#x27;,\n",
       "                                                  Pipeline(steps=[(&#x27;TargetEncoder&#x27;,\n",
       "                                                                   TargetEncoder())]),\n",
       "                                                  [&#x27;Developer&#x27;, &#x27;Publisher&#x27;]),\n",
       "                                                 (&#x27;numeric_transfomer&#x27;,\n",
       "                                                  Pipeline(steps=[(&#x27;scaler&#x27;,\n",
       "                                                                   MinMaxScaler())]),\n",
       "                                                  [&#x27;withDLC&#x27;, &#x27;isMature&#x27;,\n",
       "                                                   &#x27;PositiveReviews&#x27;,\n",
       "                                                   &#x27;TotalReviews&#x27;,\n",
       "                                                   &#x27;NegativeReviews&#x27;, &#x27;Price&#x27;,\n",
       "                                                   &#x27;ReleaseYear&#x27;,\n",
       "                                                   &#x27;ReleaseMonth&#x27;,\n",
       "                                                   &#x27;ReleaseDay&#x27;])])),\n",
       "                (&#x27;RandomForestRegression&#x27;, RandomForestRegressor())])</pre></div></div></div><div class=\"sk-serial\"><div class=\"sk-item sk-dashed-wrapped\"><div class=\"sk-label-container\"><div class=\"sk-label sk-toggleable\"><input class=\"sk-toggleable__control sk-hidden--visually\" id=\"sk-estimator-id-156\" type=\"checkbox\" ><label for=\"sk-estimator-id-156\" class=\"sk-toggleable__label sk-toggleable__label-arrow\">preprocessor: ColumnTransformer</label><div class=\"sk-toggleable__content\"><pre>ColumnTransformer(remainder=&#x27;passthrough&#x27;,\n",
       "                  transformers=[(&#x27;one_hot_transformer&#x27;,\n",
       "                                 Pipeline(steps=[(&#x27;OneHotEncoder&#x27;,\n",
       "                                                  OneHotEncoder(handle_unknown=&#x27;ignore&#x27;))]),\n",
       "                                 [&#x27;Genre&#x27;]),\n",
       "                                (&#x27;target_transformer&#x27;,\n",
       "                                 Pipeline(steps=[(&#x27;TargetEncoder&#x27;,\n",
       "                                                  TargetEncoder())]),\n",
       "                                 [&#x27;Developer&#x27;, &#x27;Publisher&#x27;]),\n",
       "                                (&#x27;numeric_transfomer&#x27;,\n",
       "                                 Pipeline(steps=[(&#x27;scaler&#x27;, MinMaxScaler())]),\n",
       "                                 [&#x27;withDLC&#x27;, &#x27;isMature&#x27;, &#x27;PositiveReviews&#x27;,\n",
       "                                  &#x27;TotalReviews&#x27;, &#x27;NegativeReviews&#x27;, &#x27;Price&#x27;,\n",
       "                                  &#x27;ReleaseYear&#x27;, &#x27;ReleaseMonth&#x27;,\n",
       "                                  &#x27;ReleaseDay&#x27;])])</pre></div></div></div><div class=\"sk-parallel\"><div class=\"sk-parallel-item\"><div class=\"sk-item\"><div class=\"sk-label-container\"><div class=\"sk-label sk-toggleable\"><input class=\"sk-toggleable__control sk-hidden--visually\" id=\"sk-estimator-id-157\" type=\"checkbox\" ><label for=\"sk-estimator-id-157\" class=\"sk-toggleable__label sk-toggleable__label-arrow\">one_hot_transformer</label><div class=\"sk-toggleable__content\"><pre>[&#x27;Genre&#x27;]</pre></div></div></div><div class=\"sk-serial\"><div class=\"sk-item\"><div class=\"sk-serial\"><div class=\"sk-item\"><div class=\"sk-estimator sk-toggleable\"><input class=\"sk-toggleable__control sk-hidden--visually\" id=\"sk-estimator-id-158\" type=\"checkbox\" ><label for=\"sk-estimator-id-158\" class=\"sk-toggleable__label sk-toggleable__label-arrow\">OneHotEncoder</label><div class=\"sk-toggleable__content\"><pre>OneHotEncoder(handle_unknown=&#x27;ignore&#x27;)</pre></div></div></div></div></div></div></div></div><div class=\"sk-parallel-item\"><div class=\"sk-item\"><div class=\"sk-label-container\"><div class=\"sk-label sk-toggleable\"><input class=\"sk-toggleable__control sk-hidden--visually\" id=\"sk-estimator-id-159\" type=\"checkbox\" ><label for=\"sk-estimator-id-159\" class=\"sk-toggleable__label sk-toggleable__label-arrow\">target_transformer</label><div class=\"sk-toggleable__content\"><pre>[&#x27;Developer&#x27;, &#x27;Publisher&#x27;]</pre></div></div></div><div class=\"sk-serial\"><div class=\"sk-item\"><div class=\"sk-serial\"><div class=\"sk-item\"><div class=\"sk-estimator sk-toggleable\"><input class=\"sk-toggleable__control sk-hidden--visually\" id=\"sk-estimator-id-160\" type=\"checkbox\" ><label for=\"sk-estimator-id-160\" class=\"sk-toggleable__label sk-toggleable__label-arrow\">TargetEncoder</label><div class=\"sk-toggleable__content\"><pre>TargetEncoder()</pre></div></div></div></div></div></div></div></div><div class=\"sk-parallel-item\"><div class=\"sk-item\"><div class=\"sk-label-container\"><div class=\"sk-label sk-toggleable\"><input class=\"sk-toggleable__control sk-hidden--visually\" id=\"sk-estimator-id-161\" type=\"checkbox\" ><label for=\"sk-estimator-id-161\" class=\"sk-toggleable__label sk-toggleable__label-arrow\">numeric_transfomer</label><div class=\"sk-toggleable__content\"><pre>[&#x27;withDLC&#x27;, &#x27;isMature&#x27;, &#x27;PositiveReviews&#x27;, &#x27;TotalReviews&#x27;, &#x27;NegativeReviews&#x27;, &#x27;Price&#x27;, &#x27;ReleaseYear&#x27;, &#x27;ReleaseMonth&#x27;, &#x27;ReleaseDay&#x27;]</pre></div></div></div><div class=\"sk-serial\"><div class=\"sk-item\"><div class=\"sk-serial\"><div class=\"sk-item\"><div class=\"sk-estimator sk-toggleable\"><input class=\"sk-toggleable__control sk-hidden--visually\" id=\"sk-estimator-id-162\" type=\"checkbox\" ><label for=\"sk-estimator-id-162\" class=\"sk-toggleable__label sk-toggleable__label-arrow\">MinMaxScaler</label><div class=\"sk-toggleable__content\"><pre>MinMaxScaler()</pre></div></div></div></div></div></div></div></div><div class=\"sk-parallel-item\"><div class=\"sk-item\"><div class=\"sk-label-container\"><div class=\"sk-label sk-toggleable\"><input class=\"sk-toggleable__control sk-hidden--visually\" id=\"sk-estimator-id-163\" type=\"checkbox\" ><label for=\"sk-estimator-id-163\" class=\"sk-toggleable__label sk-toggleable__label-arrow\">remainder</label><div class=\"sk-toggleable__content\"><pre>[]</pre></div></div></div><div class=\"sk-serial\"><div class=\"sk-item\"><div class=\"sk-estimator sk-toggleable\"><input class=\"sk-toggleable__control sk-hidden--visually\" id=\"sk-estimator-id-164\" type=\"checkbox\" ><label for=\"sk-estimator-id-164\" class=\"sk-toggleable__label sk-toggleable__label-arrow\">passthrough</label><div class=\"sk-toggleable__content\"><pre>passthrough</pre></div></div></div></div></div></div></div></div><div class=\"sk-item\"><div class=\"sk-estimator sk-toggleable\"><input class=\"sk-toggleable__control sk-hidden--visually\" id=\"sk-estimator-id-165\" type=\"checkbox\" ><label for=\"sk-estimator-id-165\" class=\"sk-toggleable__label sk-toggleable__label-arrow\">RandomForestRegressor</label><div class=\"sk-toggleable__content\"><pre>RandomForestRegressor()</pre></div></div></div></div></div></div></div>"
      ],
      "text/plain": [
       "Pipeline(steps=[('preprocessor',\n",
       "                 ColumnTransformer(remainder='passthrough',\n",
       "                                   transformers=[('one_hot_transformer',\n",
       "                                                  Pipeline(steps=[('OneHotEncoder',\n",
       "                                                                   OneHotEncoder(handle_unknown='ignore'))]),\n",
       "                                                  ['Genre']),\n",
       "                                                 ('target_transformer',\n",
       "                                                  Pipeline(steps=[('TargetEncoder',\n",
       "                                                                   TargetEncoder())]),\n",
       "                                                  ['Developer', 'Publisher']),\n",
       "                                                 ('numeric_transfomer',\n",
       "                                                  Pipeline(steps=[('scaler',\n",
       "                                                                   MinMaxScaler())]),\n",
       "                                                  ['withDLC', 'isMature',\n",
       "                                                   'PositiveReviews',\n",
       "                                                   'TotalReviews',\n",
       "                                                   'NegativeReviews', 'Price',\n",
       "                                                   'ReleaseYear',\n",
       "                                                   'ReleaseMonth',\n",
       "                                                   'ReleaseDay'])])),\n",
       "                ('RandomForestRegression', RandomForestRegressor())])"
      ]
     },
     "execution_count": 126,
     "metadata": {},
     "output_type": "execute_result"
    }
   ],
   "source": [
    "rf_Model = Pipeline(\n",
    "    steps=[(\"preprocessor\", preprocessor), ('RandomForestRegression', RandomForestRegressor())])\n",
    "rf_Model"
   ]
  },
  {
   "cell_type": "markdown",
   "metadata": {},
   "source": [
    "#### GridSearchCV"
   ]
  },
  {
   "cell_type": "code",
   "execution_count": 128,
   "metadata": {},
   "outputs": [
    {
     "name": "stdout",
     "output_type": "stream",
     "text": [
      "Fitting 10 folds for each of 320 candidates, totalling 3200 fits\n"
     ]
    },
    {
     "data": {
      "text/plain": [
       "{'RandomForestRegression__bootstrap': True,\n",
       " 'RandomForestRegression__max_depth': 4,\n",
       " 'RandomForestRegression__max_features': 'sqrt',\n",
       " 'RandomForestRegression__min_samples_leaf': 1,\n",
       " 'RandomForestRegression__min_samples_split': 2,\n",
       " 'RandomForestRegression__n_estimators': 17}"
      ]
     },
     "execution_count": 128,
     "metadata": {},
     "output_type": "execute_result"
    }
   ],
   "source": [
    "# Random search of parameters, using 3 fold cross validation, \n",
    "# search across 100 different combinations, and use all available cores\n",
    "rf_Grid = GridSearchCV(estimator = rf_Model, param_grid = random_grid, cv = 10, verbose=2, n_jobs = -1, error_score='raise')\n",
    "\n",
    "# Fit the random search model\n",
    "rf_Grid.fit(X_train, y_train)\n",
    "\n",
    "rf_Grid.best_params_"
   ]
  },
  {
   "cell_type": "code",
   "execution_count": 112,
   "metadata": {},
   "outputs": [
    {
     "data": {
      "text/plain": [
       "0.16056569372661245"
      ]
     },
     "execution_count": 112,
     "metadata": {},
     "output_type": "execute_result"
    }
   ],
   "source": [
    "rf_Grid.best_score_"
   ]
  },
  {
   "cell_type": "code",
   "execution_count": 115,
   "metadata": {},
   "outputs": [
    {
     "name": "stdout",
     "output_type": "stream",
     "text": [
      "Train Accuracy: 0.283\n",
      "Test Accuracy: 0.166\n"
     ]
    }
   ],
   "source": [
    "print(f'Train Accuracy: {rf_Grid.score(X_train, y_train):.3f}')\n",
    "print(f'Test Accuracy: {rf_Grid.score(X_val, y_val):.3f}')"
   ]
  },
  {
   "cell_type": "markdown",
   "metadata": {},
   "source": [
    "#### Evaluate Model tốt nhất từ Grid Search\n",
    "\n",
    "Đầu tiên ta define hàm evaluate"
   ]
  },
  {
   "cell_type": "code",
   "execution_count": 138,
   "metadata": {},
   "outputs": [],
   "source": [
    "def evaluate(model, X_test, y_test):\n",
    "    predictions = model.predict(X_test)\n",
    "    errors = abs(predictions - y_test)\n",
    "    mape = 100 * np.mean(errors / y_test)\n",
    "    accuracy = 100 - mape\n",
    "    print('Model Performance')\n",
    "    print('Average Error: {:0.4f} degrees.'.format(np.mean(errors)))\n",
    "    print('Accuracy = {:0.2f}%.'.format(accuracy))\n",
    "    \n",
    "    return accuracy"
   ]
  },
  {
   "cell_type": "code",
   "execution_count": 139,
   "metadata": {},
   "outputs": [
    {
     "name": "stdout",
     "output_type": "stream",
     "text": [
      "Model Performance\n",
      "Average Error: 0.0381 degrees.\n",
      "Accuracy = 95.45%.\n"
     ]
    }
   ],
   "source": [
    "best_grid = rf_Grid.best_estimator_\n",
    "grid_accuracy = evaluate(best_grid, X_val, y_val)"
   ]
  },
  {
   "cell_type": "code",
   "execution_count": null,
   "metadata": {},
   "outputs": [],
   "source": []
  }
 ],
 "metadata": {
  "kernelspec": {
   "display_name": "Python 3 (ipykernel)",
   "language": "python",
   "name": "python3"
  },
  "language_info": {
   "codemirror_mode": {
    "name": "ipython",
    "version": 3
   },
   "file_extension": ".py",
   "mimetype": "text/x-python",
   "name": "python",
   "nbconvert_exporter": "python",
   "pygments_lexer": "ipython3",
   "version": "3.9.18"
  }
 },
 "nbformat": 4,
 "nbformat_minor": 4
}
