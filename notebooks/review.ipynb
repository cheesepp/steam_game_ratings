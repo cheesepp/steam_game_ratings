{
 "cells": [
  {
   "cell_type": "markdown",
   "metadata": {},
   "source": [
    "<div style=\"text-align: center; background-color: #b1d1ff; font-family: 'Trebuchet MS', Arial, sans-serif; color: white; padding: 20px; font-size: 40px; font-weight: bold; border-radius: 0 0 0 0; box-shadow: 0px 6px 8px rgba(0, 0, 0, 0.2);\">\n",
    "  Review\n",
    "</div>"
   ]
  },
  {
   "cell_type": "markdown",
   "metadata": {},
   "source": [
    "Sau khi hoàn thành đồ án Nhập môn Khoa học dữ liệu, chúng em đã có nhiều trải nghiệm quý giá và học hỏi được nhiều kiến thức mới. Đồ án này không chỉ giúp chúng em nắm bắt được lý thuyết mà còn cung cấp cơ hội để áp dụng những kiến thức đã học vào thực tế.\n",
    "\n",
    "Qua quá trình thực hiện đồ án, chúng em đã được trải qua nhiều giai đoạn khác nhau của một dự án Khoa học dữ liệu, từ việc thu thập và làm sạch dữ liệu, phân tích và mô hình hóa dữ liệu, cho đến việc diễn giải kết quả và đưa ra những khám phá từ dữ liệu.\n",
    "\n",
    "Báo cáo này sẽ tóm tắt quá trình thực hiện đồ án, những khó khăn mà chúng em đã gặp phải, cũng như những bài học rút ra được. Chúng em hy vọng rằng những trải nghiệm và kiến thức đã học được từ đồ án này sẽ là nền tảng vững chắc cho những dự án Khoa học dữ liệu trong tương lai."
   ]
  },
  {
   "cell_type": "markdown",
   "metadata": {},
   "source": [
    "## I. Khó khăn\n",
    "### 1. Khó khăn chung:\n",
    "- Quá nhiều kiến thức mới phải tự học và nghiên cứu.\n",
    "- Quản lí thời gian để vừa học và nghiên cứu cho đồ án, vừa ôn thi cuối kì và làm những đồ án môn khác.\n",
    "\n",
    "Dù thời gian có hạn, nhưng đây là môn nền tảng quan trọng trong chuyên ngành và đi làm sau này, nên đây là đồ án bỏ nhiều thời gian và công sức nhất trong học kì, luôn cố gắng hoàn thiện đồ án tốt nhất có thể!\n",
    "\n",
    "### 2. Từng thành viên:\n",
    "- Trần Đình Nhật Trí:\n",
    "    - Khó khăn trong việc merge code trên jupyter notebook do vấn đề về phần mềm và môi trường\n",
    "    - Một số kĩ năng vẫn chưa thể làm tốt khi mô hình hóa dữ liệu (encoding,...)\n",
    "    - Đắn đo trong việc lựa chọn và đưa ra câu hỏi hay và nặng ý nghĩa trong đồ án, liệu câu hỏi này có phù hợp hay không?\n",
    "    - Khó khăn trong việc trình bày, mô tả quá trình và tổ chức code\n",
    "\n",
    "- Nguyễn Thủy Uyên:\n",
    "    - Cào dữ liệu mất nhiều thời gian và phải liên tục chỉnh sửa code do kết nối mạng và thay đổi bộ dữ liệu\n",
    "    - Chưa thể tìm hiểu kĩ và hiểu rõ về các kiến thức ML, DL\n",
    "    - Đắn đo trong việc lựa chọn và đưa ra câu hỏi\n",
    "    - Tinh chỉnh siêu tham số chưa phù hợp dẫn đến mất thời gian\n",
    "\n",
    "-  Nguyễn Ngọc Gia Minh:\n",
    "    - Merge code dễ gây conflict vì tổ chức file không tương đồng, file notebook khó để merge\n",
    "    - Tìm hiểu và khai thác được các câu hỏi thật sự mang ý nghĩa (cần kết hợp các cột dữ liệu ra sao, lựa chọn biểu đồ như thế nào, các bước giải quyết, nhận xét và đưa ra kết luận)\n",
    "    - Cào dữ liệu tốn khá nhiều thời gian "
   ]
  },
  {
   "cell_type": "markdown",
   "metadata": {},
   "source": [
    "## II. Bài học kinh nghiệm của từng thành viên:\n",
    "- Trần Đình Nhật Trí:\n",
    "    - Cách xử lí conflict khi merge code.\n",
    "    -Rèn dũa kĩ năng thảo luận, đóng góp và hỗ trợ các thành viên trong nhóm.\n",
    "    - Quy trình làm một dự án dữ liệu hoàn chỉnh, rèn luyện được những kĩ năng cứng và mềm trong một dự án khoa học dữ liệu.\n",
    "    - Tự học và nghiên cứu, tìm cách đưa ra vấn đề và giải quyết.\n",
    "    - Học thêm được nhiều kiến thức mới lạ, thú vị trong chuyên ngành và biết cách triển khai một sản phẩm ra cho người dùng.\n",
    "\n",
    "- Nguyễn Thủy Uyên:\n",
    "    - Kĩ năng sử dụng github, kĩ năng thảo luận và làm việc nhóm.\n",
    "    - Quản lí thời gian phù hợp và hiệu quả.\n",
    "    - Tự học hỏi các kiến thức mới, cách giải quyết vấn đề trong python (sử dụng các function...).\n",
    "    - Học được từ phần công việc của teammate (như Pipeline, deploy mô hình,...)\n",
    "    - Quy trình hoàn thiện một dự án Khoa Học Dữ Liệu.\n",
    "\n",
    "-  Nguyễn Ngọc Gia Minh:\n",
    "    - Các bước thực hiện một project dữ liệu hoàn chỉnh là như thể nào?\n",
    "    - Khả năng chịu đựng áp lực, bất đồng giữa thành viên trong nhóm\n",
    "    - Khả năng sử dụng Git, Github gia tăng\n",
    "    - Tự học được thêm nhiều thư viện, hàm hỗ trợ trong Python; các mô hình học máy, chọn lựa tham số tối ưu cho mô hình, triển khai mô hình\n",
    "    - Cách làm việc trong một đội nhóm thật sự"
   ]
  },
  {
   "cell_type": "markdown",
   "metadata": {},
   "source": [
    "## III. Nếu có nhiều thời gian hơn, nhóm sẽ:\n",
    "Nhóm em sẽ thực hiện thêm một số thứ như sau: \n",
    "- Tiến hành cào thêm các cột dữ liệu như đánh giá của từng người chơi game (số giờ chơi, bình luận về game, đề xuất game hay không, số người dùng thấy đánh giá hữu ích, vui vẻ, ....)\n",
    "- Sentiment analysis trên tập dữ liệu đó, xây dụng NLP, Recommender System, ....\n",
    "- Khai thác nhiều hơn thông tin của từng game cào được như System requirements (hệ điều hành tương thích, lưu trữ tối thiểu cần có, RAM, ....) để cụ thể hơn việc khai thác thị trường người chơi game\n",
    "- Thử cào dữ liệu bằng các cách mang lại hiệu suất cao hơn (ít tốn thời gian và tài nguyên máy tính hơn)\n",
    "- Tìm hiểu thêm các mô hình của học máy dùng để xử lý text\n",
    "- Tìm hiểu và cài đặt fine tuning cho mô hình được lựa chọn tốt hơn"
   ]
  }
 ],
 "metadata": {
  "language_info": {
   "name": "python"
  }
 },
 "nbformat": 4,
 "nbformat_minor": 2
}
