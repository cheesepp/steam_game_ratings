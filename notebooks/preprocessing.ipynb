{
 "cells": [
  {
   "cell_type": "markdown",
   "metadata": {},
   "source": [
    "<div style=\"text-align: center; background-color: #b1d1ff; font-family: 'Trebuchet MS', Arial, sans-serif; color: white; padding: 20px; font-size: 40px; font-weight: bold; border-radius: 0 0 0 0; box-shadow: 0px 6px 8px rgba(0, 0, 0, 0.2);\">\n",
    "  Preprocessing\n",
    "</div>"
   ]
  },
  {
   "cell_type": "markdown",
   "metadata": {},
   "source": [
    "## 1. Import thư viện cần thiết"
   ]
  },
  {
   "cell_type": "code",
   "execution_count": 1,
   "metadata": {},
   "outputs": [],
   "source": [
    "import numpy as np\n",
    "import pandas as pd\n",
    "import re\n",
    "import matplotlib.pyplot as plt\n",
    "%matplotlib inline\n",
    "import seaborn as sns\n",
    "from datetime import datetime as dt"
   ]
  },
  {
   "cell_type": "markdown",
   "metadata": {},
   "source": [
    "## 2. Khám phá dữ liệu"
   ]
  },
  {
   "cell_type": "markdown",
   "metadata": {},
   "source": [
    "### 2.1 Đọc dữ liệu từ file <font color=\"blue\">\"steam_game.csv\" </font>\n"
   ]
  },
  {
   "cell_type": "code",
   "execution_count": 2,
   "metadata": {},
   "outputs": [
    {
     "data": {
      "text/html": [
       "<div>\n",
       "<style scoped>\n",
       "    .dataframe tbody tr th:only-of-type {\n",
       "        vertical-align: middle;\n",
       "    }\n",
       "\n",
       "    .dataframe tbody tr th {\n",
       "        vertical-align: top;\n",
       "    }\n",
       "\n",
       "    .dataframe thead th {\n",
       "        text-align: right;\n",
       "    }\n",
       "</style>\n",
       "<table border=\"1\" class=\"dataframe\">\n",
       "  <thead>\n",
       "    <tr style=\"text-align: right;\">\n",
       "      <th></th>\n",
       "      <th>Title</th>\n",
       "      <th>Genre</th>\n",
       "      <th>Tags</th>\n",
       "      <th>withDLC</th>\n",
       "      <th>isMature</th>\n",
       "      <th>Franchise</th>\n",
       "      <th>ReleaseDate</th>\n",
       "      <th>Developer</th>\n",
       "      <th>Publisher</th>\n",
       "      <th>Languages</th>\n",
       "      <th>PositiveReviews</th>\n",
       "      <th>TotalReviews</th>\n",
       "      <th>NegativeReviews</th>\n",
       "      <th>OriginalPrice</th>\n",
       "      <th>DiscountPercent</th>\n",
       "    </tr>\n",
       "  </thead>\n",
       "  <tbody>\n",
       "    <tr>\n",
       "      <th>0</th>\n",
       "      <td>Baldur's Gate 3</td>\n",
       "      <td>Adventure, RPG, Strategy</td>\n",
       "      <td>RPG, Choices Matter, Story Rich, Character Cus...</td>\n",
       "      <td>1.0</td>\n",
       "      <td>1.0</td>\n",
       "      <td>Baldur's Gate</td>\n",
       "      <td>3 Aug, 2023</td>\n",
       "      <td>Larian Studios</td>\n",
       "      <td>Larian Studios</td>\n",
       "      <td>English, French, German, Spanish - Spain, Poli...</td>\n",
       "      <td>(498,632)</td>\n",
       "      <td>(515,427)</td>\n",
       "      <td>(16,795)</td>\n",
       "      <td>990.000,00₫</td>\n",
       "      <td>-10%</td>\n",
       "    </tr>\n",
       "    <tr>\n",
       "      <th>1</th>\n",
       "      <td>Counter-Strike 2</td>\n",
       "      <td>Action, Free to Play</td>\n",
       "      <td>FPS, Shooter, Multiplayer, Competitive, Action...</td>\n",
       "      <td>1.0</td>\n",
       "      <td>1.0</td>\n",
       "      <td>NaN</td>\n",
       "      <td>21 Aug, 2012</td>\n",
       "      <td>Valve</td>\n",
       "      <td>Valve</td>\n",
       "      <td>English, Czech, Danish, Dutch, Finnish, French...</td>\n",
       "      <td>(6,845,621)</td>\n",
       "      <td>(7,809,836)</td>\n",
       "      <td>(964,215)</td>\n",
       "      <td>Free</td>\n",
       "      <td>NaN</td>\n",
       "    </tr>\n",
       "    <tr>\n",
       "      <th>2</th>\n",
       "      <td>Lethal Company</td>\n",
       "      <td>Action, Adventure, Indie, Early Access</td>\n",
       "      <td>Online Co-Op, Horror, First-Person, Psychologi...</td>\n",
       "      <td>0.0</td>\n",
       "      <td>1.0</td>\n",
       "      <td>NaN</td>\n",
       "      <td>23 Oct, 2023</td>\n",
       "      <td>Zeekerss</td>\n",
       "      <td>Zeekerss</td>\n",
       "      <td>English</td>\n",
       "      <td>(218,847)</td>\n",
       "      <td>(222,992)</td>\n",
       "      <td>(4,145)</td>\n",
       "      <td>142.000,00₫</td>\n",
       "      <td>NaN</td>\n",
       "    </tr>\n",
       "    <tr>\n",
       "      <th>3</th>\n",
       "      <td>Cyberpunk 2077</td>\n",
       "      <td>RPG</td>\n",
       "      <td>Cyberpunk, Open World, Nudity, RPG, Singleplay...</td>\n",
       "      <td>1.0</td>\n",
       "      <td>1.0</td>\n",
       "      <td>NaN</td>\n",
       "      <td>9 Dec, 2020</td>\n",
       "      <td>CD PROJEKT RED</td>\n",
       "      <td>CD PROJEKT RED</td>\n",
       "      <td>English, French, Italian, German, Spanish - Sp...</td>\n",
       "      <td>(564,519)</td>\n",
       "      <td>(697,970)</td>\n",
       "      <td>(133,451)</td>\n",
       "      <td>990.000,00₫</td>\n",
       "      <td>-50%</td>\n",
       "    </tr>\n",
       "    <tr>\n",
       "      <th>4</th>\n",
       "      <td>ELDEN RING</td>\n",
       "      <td>Action, RPG</td>\n",
       "      <td>Souls-like, Dark Fantasy, Open World, RPG, Dif...</td>\n",
       "      <td>0.0</td>\n",
       "      <td>1.0</td>\n",
       "      <td>Bandai Namco Entertainment</td>\n",
       "      <td>24 Feb, 2022</td>\n",
       "      <td>FromSoftware Inc.</td>\n",
       "      <td>FromSoftware Inc.</td>\n",
       "      <td>English, French, Italian, German, Spanish - Sp...</td>\n",
       "      <td>(688,189)</td>\n",
       "      <td>(744,999)</td>\n",
       "      <td>(56,810)</td>\n",
       "      <td>898.000,00₫</td>\n",
       "      <td>-40%</td>\n",
       "    </tr>\n",
       "    <tr>\n",
       "      <th>5</th>\n",
       "      <td>Apex Legends™</td>\n",
       "      <td>Action, Adventure, Free to Play</td>\n",
       "      <td>Free to Play, Battle Royale, Multiplayer, Shoo...</td>\n",
       "      <td>0.0</td>\n",
       "      <td>0.0</td>\n",
       "      <td>Apex Legends</td>\n",
       "      <td>4 Nov, 2020</td>\n",
       "      <td>Respawn Entertainment</td>\n",
       "      <td>Electronic Arts</td>\n",
       "      <td>English, French, Italian, German, Spanish - Sp...</td>\n",
       "      <td>(613,541)</td>\n",
       "      <td>(773,739)</td>\n",
       "      <td>(160,198)</td>\n",
       "      <td>Free</td>\n",
       "      <td>NaN</td>\n",
       "    </tr>\n",
       "    <tr>\n",
       "      <th>6</th>\n",
       "      <td>Dota 2</td>\n",
       "      <td>Action, Strategy, Free to Play</td>\n",
       "      <td>Free to Play, MOBA, Multiplayer, Strategy, eSp...</td>\n",
       "      <td>1.0</td>\n",
       "      <td>0.0</td>\n",
       "      <td>Dota</td>\n",
       "      <td>9 Jul, 2013</td>\n",
       "      <td>Valve</td>\n",
       "      <td>Valve</td>\n",
       "      <td>English, Bulgarian, Czech, Danish, Dutch, Finn...</td>\n",
       "      <td>(1,758,564)</td>\n",
       "      <td>(2,142,374)</td>\n",
       "      <td>(383,810)</td>\n",
       "      <td>Free</td>\n",
       "      <td>NaN</td>\n",
       "    </tr>\n",
       "    <tr>\n",
       "      <th>7</th>\n",
       "      <td>Hogwarts Legacy</td>\n",
       "      <td>Action, Adventure, RPG</td>\n",
       "      <td>Magic, Fantasy, Open World, Singleplayer, Adve...</td>\n",
       "      <td>1.0</td>\n",
       "      <td>0.0</td>\n",
       "      <td>WB Games</td>\n",
       "      <td>10 Feb, 2023</td>\n",
       "      <td>Avalanche Software</td>\n",
       "      <td>Warner Bros. Games</td>\n",
       "      <td>English, French, Italian, German, Spanish - Sp...</td>\n",
       "      <td>(225,796)</td>\n",
       "      <td>(245,819)</td>\n",
       "      <td>(20,023)</td>\n",
       "      <td>1.290.000,00₫</td>\n",
       "      <td>-50%</td>\n",
       "    </tr>\n",
       "    <tr>\n",
       "      <th>8</th>\n",
       "      <td>Dead by Daylight</td>\n",
       "      <td>Action</td>\n",
       "      <td>Horror, Survival Horror, Multiplayer, Online C...</td>\n",
       "      <td>1.0</td>\n",
       "      <td>1.0</td>\n",
       "      <td>Dead by Daylight</td>\n",
       "      <td>14 Jun, 2016</td>\n",
       "      <td>Behaviour Interactive Inc.</td>\n",
       "      <td>Behaviour Interactive Inc.</td>\n",
       "      <td>English, French, Italian, German, Spanish - Sp...</td>\n",
       "      <td>(565,863)</td>\n",
       "      <td>(704,111)</td>\n",
       "      <td>(138,248)</td>\n",
       "      <td>230.000,00₫</td>\n",
       "      <td>-65%</td>\n",
       "    </tr>\n",
       "    <tr>\n",
       "      <th>9</th>\n",
       "      <td>Project Zomboid</td>\n",
       "      <td>Indie, RPG, Simulation, Early Access</td>\n",
       "      <td>Survival, Zombies, Open World, Open World Surv...</td>\n",
       "      <td>0.0</td>\n",
       "      <td>0.0</td>\n",
       "      <td>NaN</td>\n",
       "      <td>8 Nov, 2013</td>\n",
       "      <td>The Indie Stone</td>\n",
       "      <td>The Indie Stone</td>\n",
       "      <td>English, French, Italian, German, Spanish - Sp...</td>\n",
       "      <td>(246,145)</td>\n",
       "      <td>(261,675)</td>\n",
       "      <td>(15,530)</td>\n",
       "      <td>260.000,00₫</td>\n",
       "      <td>-33%</td>\n",
       "    </tr>\n",
       "  </tbody>\n",
       "</table>\n",
       "</div>"
      ],
      "text/plain": [
       "              Title                                   Genre  \\\n",
       "0   Baldur's Gate 3                Adventure, RPG, Strategy   \n",
       "1  Counter-Strike 2                    Action, Free to Play   \n",
       "2    Lethal Company  Action, Adventure, Indie, Early Access   \n",
       "3    Cyberpunk 2077                                     RPG   \n",
       "4        ELDEN RING                             Action, RPG   \n",
       "5     Apex Legends™         Action, Adventure, Free to Play   \n",
       "6            Dota 2          Action, Strategy, Free to Play   \n",
       "7   Hogwarts Legacy                  Action, Adventure, RPG   \n",
       "8  Dead by Daylight                                  Action   \n",
       "9   Project Zomboid    Indie, RPG, Simulation, Early Access   \n",
       "\n",
       "                                                Tags  withDLC  isMature  \\\n",
       "0  RPG, Choices Matter, Story Rich, Character Cus...      1.0       1.0   \n",
       "1  FPS, Shooter, Multiplayer, Competitive, Action...      1.0       1.0   \n",
       "2  Online Co-Op, Horror, First-Person, Psychologi...      0.0       1.0   \n",
       "3  Cyberpunk, Open World, Nudity, RPG, Singleplay...      1.0       1.0   \n",
       "4  Souls-like, Dark Fantasy, Open World, RPG, Dif...      0.0       1.0   \n",
       "5  Free to Play, Battle Royale, Multiplayer, Shoo...      0.0       0.0   \n",
       "6  Free to Play, MOBA, Multiplayer, Strategy, eSp...      1.0       0.0   \n",
       "7  Magic, Fantasy, Open World, Singleplayer, Adve...      1.0       0.0   \n",
       "8  Horror, Survival Horror, Multiplayer, Online C...      1.0       1.0   \n",
       "9  Survival, Zombies, Open World, Open World Surv...      0.0       0.0   \n",
       "\n",
       "                    Franchise   ReleaseDate                   Developer  \\\n",
       "0               Baldur's Gate   3 Aug, 2023              Larian Studios   \n",
       "1                         NaN  21 Aug, 2012                       Valve   \n",
       "2                         NaN  23 Oct, 2023                    Zeekerss   \n",
       "3                         NaN   9 Dec, 2020              CD PROJEKT RED   \n",
       "4  Bandai Namco Entertainment  24 Feb, 2022           FromSoftware Inc.   \n",
       "5                Apex Legends   4 Nov, 2020       Respawn Entertainment   \n",
       "6                        Dota   9 Jul, 2013                       Valve   \n",
       "7                    WB Games  10 Feb, 2023          Avalanche Software   \n",
       "8            Dead by Daylight  14 Jun, 2016  Behaviour Interactive Inc.   \n",
       "9                         NaN   8 Nov, 2013             The Indie Stone   \n",
       "\n",
       "                    Publisher  \\\n",
       "0              Larian Studios   \n",
       "1                       Valve   \n",
       "2                    Zeekerss   \n",
       "3              CD PROJEKT RED   \n",
       "4           FromSoftware Inc.   \n",
       "5             Electronic Arts   \n",
       "6                       Valve   \n",
       "7          Warner Bros. Games   \n",
       "8  Behaviour Interactive Inc.   \n",
       "9             The Indie Stone   \n",
       "\n",
       "                                           Languages PositiveReviews  \\\n",
       "0  English, French, German, Spanish - Spain, Poli...       (498,632)   \n",
       "1  English, Czech, Danish, Dutch, Finnish, French...     (6,845,621)   \n",
       "2                                            English       (218,847)   \n",
       "3  English, French, Italian, German, Spanish - Sp...       (564,519)   \n",
       "4  English, French, Italian, German, Spanish - Sp...       (688,189)   \n",
       "5  English, French, Italian, German, Spanish - Sp...       (613,541)   \n",
       "6  English, Bulgarian, Czech, Danish, Dutch, Finn...     (1,758,564)   \n",
       "7  English, French, Italian, German, Spanish - Sp...       (225,796)   \n",
       "8  English, French, Italian, German, Spanish - Sp...       (565,863)   \n",
       "9  English, French, Italian, German, Spanish - Sp...       (246,145)   \n",
       "\n",
       "  TotalReviews NegativeReviews  OriginalPrice DiscountPercent  \n",
       "0    (515,427)        (16,795)    990.000,00₫            -10%  \n",
       "1  (7,809,836)       (964,215)           Free             NaN  \n",
       "2    (222,992)         (4,145)    142.000,00₫             NaN  \n",
       "3    (697,970)       (133,451)    990.000,00₫            -50%  \n",
       "4    (744,999)        (56,810)    898.000,00₫            -40%  \n",
       "5    (773,739)       (160,198)           Free             NaN  \n",
       "6  (2,142,374)       (383,810)           Free             NaN  \n",
       "7    (245,819)        (20,023)  1.290.000,00₫            -50%  \n",
       "8    (704,111)       (138,248)    230.000,00₫            -65%  \n",
       "9    (261,675)        (15,530)    260.000,00₫            -33%  "
      ]
     },
     "execution_count": 2,
     "metadata": {},
     "output_type": "execute_result"
    }
   ],
   "source": [
    "df = pd.read_csv('../data/steam_game_p2.csv')\n",
    "df.head(10)"
   ]
  },
  {
   "cell_type": "markdown",
   "metadata": {},
   "source": [
    "### 2.2 Ta xem xét có tổng cộng bao nhiêu hàng và cột thuộc tính ở tập dữ liệu thô \n",
    "Nếu dữ liệu có trên 1000 dòng và phải có trên 5 cột thuộc tính thì dữ liệu mới đủ để tiến hành các bước khai thác, xây dựng mô hình học máy, học sâu, ... \n",
    "\n",
    "Ngược lại, dữ liệu quá ít, không đủ -> cần thu thập thêm dữ liệu"
   ]
  },
  {
   "cell_type": "code",
   "execution_count": 3,
   "metadata": {},
   "outputs": [
    {
     "name": "stdout",
     "output_type": "stream",
     "text": [
      "Current shape of data: (9583, 15)\n",
      "Data is good !\n"
     ]
    }
   ],
   "source": [
    "num_rows, num_cols = df.shape\n",
    "print(f'Current shape of data: {df.shape}')\n",
    "if (num_rows > 100) & (num_cols > 5):\n",
    "    print('Data is good !')\n",
    "else:\n",
    "    print('You should collect more data')"
   ]
  },
  {
   "cell_type": "markdown",
   "metadata": {},
   "source": [
    "### 2.3 Ta xem xét ý nghĩa của từng cột dữ liệu\n",
    "1. Title: Tên trò chơi điện tử trên website steam\n",
    "2. Genre: Thể loại trò chơi\n",
    "3. Tags: các nhãn trò chơi mà người dùng(người chơi) gắn cho trò chơi\n",
    "4. withDLC: trò chơi có kèm theo các downloadable content hay không ?\t\n",
    "5. isMature: trò chơi có được gán nhãn không phù hợp cho trẻ nhỏ hay không?\n",
    "6. Franchise: tên thương hiệu của trò chơi\t\n",
    "7. ReleaseDate: Ngày phát hành của trò chơi\t\n",
    "8. Developer: Nhà phát triển trò chơi\t\n",
    "9. Publisher: Nhà phát hành trò chơi\n",
    "10. Languages: Các ngôn ngữ được hỗ trợ trong trò chơi\t\n",
    "11. PositiveReviews: Số đánh giá tích cực về trò chơi\t\n",
    "12. TotalReviews: Tổng số đánh giá của người chơi về trò chơi\n",
    "13. NegativeReviews: Số đánh giá tiêu cực về trò chơi\n",
    "14. OriginalPrice: Giá bán gốc của trò chơi\n",
    "15. DiscountPercent: Giảm giá áp dụng trên giá gốc(%)"
   ]
  },
  {
   "cell_type": "code",
   "execution_count": 4,
   "metadata": {},
   "outputs": [
    {
     "name": "stdout",
     "output_type": "stream",
     "text": [
      "<class 'pandas.core.frame.DataFrame'>\n",
      "RangeIndex: 9583 entries, 0 to 9582\n",
      "Data columns (total 15 columns):\n",
      " #   Column           Non-Null Count  Dtype  \n",
      "---  ------           --------------  -----  \n",
      " 0   Title            9531 non-null   object \n",
      " 1   Genre            9515 non-null   object \n",
      " 2   Tags             9531 non-null   object \n",
      " 3   withDLC          9583 non-null   float64\n",
      " 4   isMature         9583 non-null   float64\n",
      " 5   Franchise        4576 non-null   object \n",
      " 6   ReleaseDate      9526 non-null   object \n",
      " 7   Developer        9525 non-null   object \n",
      " 8   Publisher        9508 non-null   object \n",
      " 9   Languages        9531 non-null   object \n",
      " 10  PositiveReviews  9518 non-null   object \n",
      " 11  TotalReviews     9518 non-null   object \n",
      " 12  NegativeReviews  9518 non-null   object \n",
      " 13  OriginalPrice    9583 non-null   object \n",
      " 14  DiscountPercent  8220 non-null   object \n",
      "dtypes: float64(2), object(13)\n",
      "memory usage: 1.1+ MB\n"
     ]
    }
   ],
   "source": [
    "df.info()"
   ]
  },
  {
   "cell_type": "markdown",
   "metadata": {},
   "source": [
    "### 2.4 Xử lí missing value\n",
    "Kiểm tra xem mỗi feature chiếm nhiêu % missing value:"
   ]
  },
  {
   "cell_type": "code",
   "execution_count": 5,
   "metadata": {},
   "outputs": [
    {
     "data": {
      "text/plain": [
       "Title               0.542628\n",
       "Genre               0.709590\n",
       "Tags                0.542628\n",
       "withDLC             0.000000\n",
       "isMature            0.000000\n",
       "Franchise          52.248774\n",
       "ReleaseDate         0.594803\n",
       "Developer           0.605238\n",
       "Publisher           0.782636\n",
       "Languages           0.542628\n",
       "PositiveReviews     0.678284\n",
       "TotalReviews        0.678284\n",
       "NegativeReviews     0.678284\n",
       "OriginalPrice       0.000000\n",
       "DiscountPercent    14.223103\n",
       "dtype: float64"
      ]
     },
     "execution_count": 5,
     "metadata": {},
     "output_type": "execute_result"
    }
   ],
   "source": [
    "percent_missing = df.isnull().sum() * 100 / len(df)\n",
    "percent_missing"
   ]
  },
  {
   "cell_type": "markdown",
   "metadata": {},
   "source": [
    "Ta sẽ tính lại giá trị ở cột *OriginalPrice* sau khi đã áp dụng giảm giá để có cái nhìn chính xác về giá tiền thật sự người mua hàng phải bỏ ra, sau đó đổi tên thành *DiscountedPrice*.\n",
    "\n",
    "Trước hết, ta sẽ chuyển tất cả giá trị với đơn vị tiền tệ \"$\" sang \"VND\", tiến hàng loại bỏ kí tự hiển thị đơn vị tiền tệ, đưa giá trị \"Free\" thành 0 ở cột *OriginalPrice*"
   ]
  },
  {
   "cell_type": "code",
   "execution_count": 6,
   "metadata": {},
   "outputs": [],
   "source": [
    "# Hàm chuyển đổi giá trị cột Price\n",
    "def convert_price(price):\n",
    "    if price == \"Free\":\n",
    "        return 0.0\n",
    "    elif '₫' in price:\n",
    "        formatted_price = float(price[: -4].replace('₫', '').replace('.', '').replace(',', ''))\n",
    "        return round(formatted_price, 2)\n",
    "    elif '$' in price:\n",
    "        usd_to_vnd = 24265\n",
    "        formatted_price =  float(price.replace('$', '')) * usd_to_vnd\n",
    "        return round(formatted_price, 2)\n",
    "\n",
    "df['OriginalPrice'] = df['OriginalPrice'].apply(convert_price) "
   ]
  },
  {
   "cell_type": "code",
   "execution_count": 7,
   "metadata": {},
   "outputs": [],
   "source": [
    "# Hàm chuyển đổi giá trị cột Discount\n",
    "def convert_discount(discount):\n",
    "    if pd.isna(discount):\n",
    "        return 0\n",
    "    else:\n",
    "        return float(discount.replace('-', '').replace('%', '')) * 0.01\n",
    "\n",
    "df['DiscountPercent'] = df['DiscountPercent'].apply(convert_discount)"
   ]
  },
  {
   "cell_type": "code",
   "execution_count": 8,
   "metadata": {},
   "outputs": [],
   "source": [
    "# Hàm tính tổng Price sau khi áp dụng Discount\n",
    "def price_after_discount(x):\n",
    "    discount_percent = x['DiscountPercent']\n",
    "    if pd.isna(discount_percent):\n",
    "        return x['OriginalPrice']\n",
    "    else:\n",
    "        return x['OriginalPrice'] * (1 - discount_percent)\n",
    "\n",
    "df['DiscountedPrice'] = df.apply(price_after_discount, axis = 1)"
   ]
  },
  {
   "cell_type": "markdown",
   "metadata": {},
   "source": [
    "Bây giờ kiểm tra cột mới `DiscountedPrice`"
   ]
  },
  {
   "cell_type": "code",
   "execution_count": 9,
   "metadata": {},
   "outputs": [
    {
     "data": {
      "text/plain": [
       "0       891000.0\n",
       "1            0.0\n",
       "2       142000.0\n",
       "3       495000.0\n",
       "4       538800.0\n",
       "          ...   \n",
       "9578         0.0\n",
       "9579     33750.0\n",
       "9580         0.0\n",
       "9581     87500.0\n",
       "9582     73500.0\n",
       "Name: DiscountedPrice, Length: 9583, dtype: float64"
      ]
     },
     "execution_count": 9,
     "metadata": {},
     "output_type": "execute_result"
    }
   ],
   "source": [
    "df['DiscountedPrice']"
   ]
  },
  {
   "cell_type": "markdown",
   "metadata": {},
   "source": [
    "#### Vì cột Franchise chứa quá nhiều dữ liệu bị thiếu (hơn 50%), nhưng lại không thể \"fill\" giá trị ngẫu nhiêu nào, hay có giá trị đặc thù nào có thể thay thế những dữ liệu bị thiếu mà không gây nhiễu\n",
    "\n",
    "Nên ta chọn loại bỏ hẳn cột này ra khỏi dataframe"
   ]
  },
  {
   "cell_type": "code",
   "execution_count": 10,
   "metadata": {},
   "outputs": [],
   "source": [
    "df.drop(columns = ['Franchise'], inplace = True)"
   ]
  },
  {
   "cell_type": "markdown",
   "metadata": {},
   "source": [
    "Loại bỏ các game có `Title` là NaN"
   ]
  },
  {
   "cell_type": "code",
   "execution_count": 11,
   "metadata": {},
   "outputs": [],
   "source": [
    "df.dropna(subset=['Title'], inplace=True)"
   ]
  },
  {
   "cell_type": "markdown",
   "metadata": {},
   "source": [
    "Kiểm tra dữ liệu ở cột *Release Date*, nếu giá trị là Nan, đồng nghĩa với trò chơi điện tử này chưa được phát hành chính thức nên xóa khỏi dataframe."
   ]
  },
  {
   "cell_type": "code",
   "execution_count": 12,
   "metadata": {},
   "outputs": [],
   "source": [
    "df.dropna(subset = 'ReleaseDate', inplace = True)"
   ]
  },
  {
   "cell_type": "code",
   "execution_count": 13,
   "metadata": {},
   "outputs": [
    {
     "data": {
      "text/plain": [
       "Title              0.000000\n",
       "Genre              0.167961\n",
       "Tags               0.000000\n",
       "withDLC            0.000000\n",
       "isMature           0.000000\n",
       "ReleaseDate        0.000000\n",
       "Developer          0.062986\n",
       "Publisher          0.241444\n",
       "Languages          0.000000\n",
       "PositiveReviews    0.136469\n",
       "TotalReviews       0.136469\n",
       "NegativeReviews    0.136469\n",
       "OriginalPrice      0.000000\n",
       "DiscountPercent    0.000000\n",
       "DiscountedPrice    0.000000\n",
       "dtype: float64"
      ]
     },
     "execution_count": 13,
     "metadata": {},
     "output_type": "execute_result"
    }
   ],
   "source": [
    "# Check missing value\n",
    "percent_missing = df.isnull().sum() * 100 / len(df)\n",
    "percent_missing"
   ]
  },
  {
   "cell_type": "markdown",
   "metadata": {},
   "source": [
    "#### Dữ liệu vẫn đang còn missing value!"
   ]
  },
  {
   "cell_type": "markdown",
   "metadata": {},
   "source": [
    "### 2.5 Kiểm tra kiểu dữ liệu phù hợp với cột\n",
    "Đầu tiên ta xem xét type của các cột"
   ]
  },
  {
   "cell_type": "code",
   "execution_count": 14,
   "metadata": {},
   "outputs": [
    {
     "data": {
      "text/plain": [
       "Title               object\n",
       "Genre               object\n",
       "Tags                object\n",
       "withDLC            float64\n",
       "isMature           float64\n",
       "ReleaseDate         object\n",
       "Developer           object\n",
       "Publisher           object\n",
       "Languages           object\n",
       "PositiveReviews     object\n",
       "TotalReviews        object\n",
       "NegativeReviews     object\n",
       "OriginalPrice      float64\n",
       "DiscountPercent    float64\n",
       "DiscountedPrice    float64\n",
       "dtype: object"
      ]
     },
     "execution_count": 14,
     "metadata": {},
     "output_type": "execute_result"
    }
   ],
   "source": [
    "df.dtypes"
   ]
  },
  {
   "cell_type": "markdown",
   "metadata": {},
   "source": [
    "Một số cột có kiểu dữ liệu chưa phù hợp như `ReleaseDate`, `PositiveReviews`, `TotalReviews` và `NegativeReviews`. Ta sẽ điều chỉnh các cột dữ liệu này.\n",
    "\n",
    "Điều chỉnh định dạng của các cột `PositiveReviews`, `TotalReviews` và `NegativeReviews` thành kiểu `float`."
   ]
  },
  {
   "cell_type": "code",
   "execution_count": 15,
   "metadata": {},
   "outputs": [],
   "source": [
    "def format_reviews_col(review):\n",
    "    regex = r'[(),]'\n",
    "    # review = review.replace('.0', '')\n",
    "    replacement = re.sub(regex, '', str(review))\n",
    "    return replacement\n",
    "\n",
    "cols_review = ['PositiveReviews', 'TotalReviews', 'NegativeReviews']\n",
    "df[cols_review] = df[cols_review].applymap(format_reviews_col)\n",
    "df[cols_review] = df[cols_review].astype(np.float64)"
   ]
  },
  {
   "cell_type": "code",
   "execution_count": 16,
   "metadata": {},
   "outputs": [
    {
     "data": {
      "text/html": [
       "<div>\n",
       "<style scoped>\n",
       "    .dataframe tbody tr th:only-of-type {\n",
       "        vertical-align: middle;\n",
       "    }\n",
       "\n",
       "    .dataframe tbody tr th {\n",
       "        vertical-align: top;\n",
       "    }\n",
       "\n",
       "    .dataframe thead th {\n",
       "        text-align: right;\n",
       "    }\n",
       "</style>\n",
       "<table border=\"1\" class=\"dataframe\">\n",
       "  <thead>\n",
       "    <tr style=\"text-align: right;\">\n",
       "      <th></th>\n",
       "      <th>Title</th>\n",
       "      <th>Genre</th>\n",
       "      <th>Tags</th>\n",
       "      <th>withDLC</th>\n",
       "      <th>isMature</th>\n",
       "      <th>ReleaseDate</th>\n",
       "      <th>Developer</th>\n",
       "      <th>Publisher</th>\n",
       "      <th>Languages</th>\n",
       "      <th>PositiveReviews</th>\n",
       "      <th>TotalReviews</th>\n",
       "      <th>NegativeReviews</th>\n",
       "      <th>OriginalPrice</th>\n",
       "      <th>DiscountPercent</th>\n",
       "      <th>DiscountedPrice</th>\n",
       "    </tr>\n",
       "  </thead>\n",
       "  <tbody>\n",
       "  </tbody>\n",
       "</table>\n",
       "</div>"
      ],
      "text/plain": [
       "Empty DataFrame\n",
       "Columns: [Title, Genre, Tags, withDLC, isMature, ReleaseDate, Developer, Publisher, Languages, PositiveReviews, TotalReviews, NegativeReviews, OriginalPrice, DiscountPercent, DiscountedPrice]\n",
       "Index: []"
      ]
     },
     "execution_count": 16,
     "metadata": {},
     "output_type": "execute_result"
    }
   ],
   "source": [
    "df[df['NegativeReviews'] < 0]"
   ]
  },
  {
   "cell_type": "markdown",
   "metadata": {},
   "source": [
    "Chuyển cột *ReleaseDate* về kiểu `datetime`"
   ]
  },
  {
   "cell_type": "code",
   "execution_count": 17,
   "metadata": {},
   "outputs": [],
   "source": [
    "def convert_to_datetime(date_str):\n",
    "    formats = [r'%b %d, %Y', r'%d %b, %Y', r'%b %Y']\n",
    "    for format in formats:\n",
    "        try:\n",
    "            return dt.strptime(date_str, format)\n",
    "        except ValueError:\n",
    "            pass\n",
    "    return np.nan\n",
    "\n",
    "df['ReleaseDate'] = df['ReleaseDate'].apply(convert_to_datetime)"
   ]
  },
  {
   "cell_type": "code",
   "execution_count": 18,
   "metadata": {},
   "outputs": [
    {
     "data": {
      "text/plain": [
       "pandas._libs.tslibs.timestamps.Timestamp"
      ]
     },
     "execution_count": 18,
     "metadata": {},
     "output_type": "execute_result"
    }
   ],
   "source": [
    "# Check\n",
    "type(df['ReleaseDate'][0])"
   ]
  },
  {
   "cell_type": "code",
   "execution_count": 19,
   "metadata": {},
   "outputs": [
    {
     "name": "stdout",
     "output_type": "stream",
     "text": [
      "<class 'pandas.core.frame.DataFrame'>\n",
      "Index: 9526 entries, 0 to 9582\n",
      "Data columns (total 15 columns):\n",
      " #   Column           Non-Null Count  Dtype         \n",
      "---  ------           --------------  -----         \n",
      " 0   Title            9526 non-null   object        \n",
      " 1   Genre            9510 non-null   object        \n",
      " 2   Tags             9526 non-null   object        \n",
      " 3   withDLC          9526 non-null   float64       \n",
      " 4   isMature         9526 non-null   float64       \n",
      " 5   ReleaseDate      9525 non-null   datetime64[ns]\n",
      " 6   Developer        9520 non-null   object        \n",
      " 7   Publisher        9503 non-null   object        \n",
      " 8   Languages        9526 non-null   object        \n",
      " 9   PositiveReviews  9513 non-null   float64       \n",
      " 10  TotalReviews     9513 non-null   float64       \n",
      " 11  NegativeReviews  9513 non-null   float64       \n",
      " 12  OriginalPrice    9526 non-null   float64       \n",
      " 13  DiscountPercent  9526 non-null   float64       \n",
      " 14  DiscountedPrice  9526 non-null   float64       \n",
      "dtypes: datetime64[ns](1), float64(8), object(6)\n",
      "memory usage: 1.4+ MB\n"
     ]
    }
   ],
   "source": [
    "df.info()"
   ]
  },
  {
   "cell_type": "markdown",
   "metadata": {},
   "source": [
    "Missing value ở các vẫn còn tồn tại ở khá nhiều thuộc tính, tuy nhiên số lượng không đáng kể nên ta có thể fill các dòng này:"
   ]
  },
  {
   "cell_type": "code",
   "execution_count": 20,
   "metadata": {},
   "outputs": [],
   "source": [
    "df['Genre'].fillna(df['Genre'].mode().values[0], inplace=True)\n",
    "df['Developer'].fillna(df['Developer'].mode().values[0], inplace=True)\n",
    "df['Publisher'].fillna(df['Publisher'].mode().values[0], inplace=True)\n",
    "df['ReleaseDate'].fillna(df['ReleaseDate'].mode().values[0], inplace=True)\n",
    "df['PositiveReviews'].fillna(df['PositiveReviews'].mode().values[0], inplace=True)\n",
    "df['TotalReviews'].fillna(df['TotalReviews'].mode().values[0], inplace=True)\n",
    "df['NegativeReviews'].fillna(df['NegativeReviews'].mode().values[0], inplace=True)\n",
    "df['OriginalPrice'].fillna(df['OriginalPrice'].mode().values[0], inplace=True)\n",
    "df['DiscountPercent'].fillna(df['DiscountPercent'].mode().values[0], inplace=True)\n",
    "df['DiscountedPrice'].fillna(df['DiscountedPrice'].mode().values[0], inplace=True)"
   ]
  },
  {
   "cell_type": "markdown",
   "metadata": {},
   "source": [
    "Kiểm tra thêm một lần nữa:\n"
   ]
  },
  {
   "cell_type": "code",
   "execution_count": 21,
   "metadata": {},
   "outputs": [
    {
     "data": {
      "text/plain": [
       "Title              0.0\n",
       "Genre              0.0\n",
       "Tags               0.0\n",
       "withDLC            0.0\n",
       "isMature           0.0\n",
       "ReleaseDate        0.0\n",
       "Developer          0.0\n",
       "Publisher          0.0\n",
       "Languages          0.0\n",
       "PositiveReviews    0.0\n",
       "TotalReviews       0.0\n",
       "NegativeReviews    0.0\n",
       "OriginalPrice      0.0\n",
       "DiscountPercent    0.0\n",
       "DiscountedPrice    0.0\n",
       "dtype: float64"
      ]
     },
     "execution_count": 21,
     "metadata": {},
     "output_type": "execute_result"
    }
   ],
   "source": [
    "percent_missing = df.isnull().sum() * 100 / len(df)\n",
    "percent_missing"
   ]
  },
  {
   "cell_type": "markdown",
   "metadata": {},
   "source": [
    "### 2.6 Kiểm tra tính toàn vẹn dữ liệu\n",
    "\n",
    "Ta sẽ tính tổng cột positive và negative reviews có bằng giá trị ở cột Total review hay không?"
   ]
  },
  {
   "cell_type": "code",
   "execution_count": 22,
   "metadata": {},
   "outputs": [
    {
     "name": "stdout",
     "output_type": "stream",
     "text": [
      "Have to update the value in Positive or Negative review using Total and another\n"
     ]
    }
   ],
   "source": [
    "check_review_cols = (df['NegativeReviews'] + df['PositiveReviews'] == df['TotalReviews']).sum()\n",
    "check_sum = check_review_cols.sum()\n",
    "if check_sum == df.shape[0]:\n",
    "    print('Data in Review columns are good !!!')\n",
    "else:\n",
    "    print('Have to update the value in Positive or Negative review using Total and another')"
   ]
  },
  {
   "cell_type": "code",
   "execution_count": 23,
   "metadata": {},
   "outputs": [],
   "source": [
    "mask = df['NegativeReviews'] + df['PositiveReviews'] != df['TotalReviews']\n",
    "df.loc[mask, 'TotalReviews'] = df.loc[mask, 'NegativeReviews'] + df.loc[mask, 'PositiveReviews']"
   ]
  },
  {
   "cell_type": "markdown",
   "metadata": {},
   "source": [
    "### 2.7 Kiểm tra sự trùng lặp dữ liệu \n",
    "\n",
    "Trước khi tính Rating cho từng trò chơi điện tử, ta kiểm tra các cột có bị trùng nhau không.\n",
    "\n",
    "Sự trùng lặp sẽ dựa trên cột **Title**, nếu có sự trùng lặp thì tiến hành loại bỏ và giữ lại sự xuất hiện đầu tiên"
   ]
  },
  {
   "cell_type": "code",
   "execution_count": 24,
   "metadata": {},
   "outputs": [
    {
     "name": "stdout",
     "output_type": "stream",
     "text": [
      "Drop duplicated rows, but keep first occurence\n"
     ]
    }
   ],
   "source": [
    "num_duplicated_rows = df.duplicated('Title').sum()\n",
    "if num_duplicated_rows == 0:\n",
    "    print('Data is good with no duplicated rows')\n",
    "else:\n",
    "    print('Drop duplicated rows, but keep first occurence')\n",
    "\n",
    "df.drop_duplicates(keep = 'first', inplace = True)"
   ]
  },
  {
   "cell_type": "markdown",
   "metadata": {},
   "source": [
    "## 3. Phân tích cột dữ liệu số (numerical feature)"
   ]
  },
  {
   "cell_type": "code",
   "execution_count": 25,
   "metadata": {},
   "outputs": [
    {
     "data": {
      "text/html": [
       "<div>\n",
       "<style scoped>\n",
       "    .dataframe tbody tr th:only-of-type {\n",
       "        vertical-align: middle;\n",
       "    }\n",
       "\n",
       "    .dataframe tbody tr th {\n",
       "        vertical-align: top;\n",
       "    }\n",
       "\n",
       "    .dataframe thead th {\n",
       "        text-align: right;\n",
       "    }\n",
       "</style>\n",
       "<table border=\"1\" class=\"dataframe\">\n",
       "  <thead>\n",
       "    <tr style=\"text-align: right;\">\n",
       "      <th></th>\n",
       "      <th>withDLC</th>\n",
       "      <th>isMature</th>\n",
       "      <th>PositiveReviews</th>\n",
       "      <th>TotalReviews</th>\n",
       "      <th>NegativeReviews</th>\n",
       "      <th>OriginalPrice</th>\n",
       "      <th>DiscountPercent</th>\n",
       "      <th>DiscountedPrice</th>\n",
       "    </tr>\n",
       "  </thead>\n",
       "  <tbody>\n",
       "    <tr>\n",
       "      <th>count</th>\n",
       "      <td>9269.000000</td>\n",
       "      <td>9269.000000</td>\n",
       "      <td>9.269000e+03</td>\n",
       "      <td>9.269000e+03</td>\n",
       "      <td>9269.000000</td>\n",
       "      <td>9.269000e+03</td>\n",
       "      <td>9269.000000</td>\n",
       "      <td>9.269000e+03</td>\n",
       "    </tr>\n",
       "    <tr>\n",
       "      <th>mean</th>\n",
       "      <td>0.449563</td>\n",
       "      <td>0.218254</td>\n",
       "      <td>8.497340e+03</td>\n",
       "      <td>9.664048e+03</td>\n",
       "      <td>1166.707628</td>\n",
       "      <td>2.366783e+05</td>\n",
       "      <td>0.444999</td>\n",
       "      <td>1.210667e+05</td>\n",
       "    </tr>\n",
       "    <tr>\n",
       "      <th>std</th>\n",
       "      <td>0.497476</td>\n",
       "      <td>0.413083</td>\n",
       "      <td>8.242057e+04</td>\n",
       "      <td>9.349746e+04</td>\n",
       "      <td>11853.418491</td>\n",
       "      <td>2.129635e+05</td>\n",
       "      <td>0.270401</td>\n",
       "      <td>1.361701e+05</td>\n",
       "    </tr>\n",
       "    <tr>\n",
       "      <th>min</th>\n",
       "      <td>0.000000</td>\n",
       "      <td>0.000000</td>\n",
       "      <td>6.000000e+00</td>\n",
       "      <td>9.000000e+00</td>\n",
       "      <td>0.000000</td>\n",
       "      <td>0.000000e+00</td>\n",
       "      <td>0.000000</td>\n",
       "      <td>0.000000e+00</td>\n",
       "    </tr>\n",
       "    <tr>\n",
       "      <th>25%</th>\n",
       "      <td>0.000000</td>\n",
       "      <td>0.000000</td>\n",
       "      <td>2.140000e+02</td>\n",
       "      <td>2.550000e+02</td>\n",
       "      <td>27.000000</td>\n",
       "      <td>1.200000e+05</td>\n",
       "      <td>0.250000</td>\n",
       "      <td>4.625000e+04</td>\n",
       "    </tr>\n",
       "    <tr>\n",
       "      <th>50%</th>\n",
       "      <td>0.000000</td>\n",
       "      <td>0.000000</td>\n",
       "      <td>7.590000e+02</td>\n",
       "      <td>9.010000e+02</td>\n",
       "      <td>111.000000</td>\n",
       "      <td>1.880000e+05</td>\n",
       "      <td>0.500000</td>\n",
       "      <td>8.460000e+04</td>\n",
       "    </tr>\n",
       "    <tr>\n",
       "      <th>75%</th>\n",
       "      <td>1.000000</td>\n",
       "      <td>0.000000</td>\n",
       "      <td>3.060000e+03</td>\n",
       "      <td>3.605000e+03</td>\n",
       "      <td>470.000000</td>\n",
       "      <td>2.600000e+05</td>\n",
       "      <td>0.700000</td>\n",
       "      <td>1.505000e+05</td>\n",
       "    </tr>\n",
       "    <tr>\n",
       "      <th>max</th>\n",
       "      <td>1.000000</td>\n",
       "      <td>1.000000</td>\n",
       "      <td>6.845621e+06</td>\n",
       "      <td>7.809836e+06</td>\n",
       "      <td>964215.000000</td>\n",
       "      <td>2.400000e+06</td>\n",
       "      <td>0.980000</td>\n",
       "      <td>2.400000e+06</td>\n",
       "    </tr>\n",
       "  </tbody>\n",
       "</table>\n",
       "</div>"
      ],
      "text/plain": [
       "           withDLC     isMature  PositiveReviews  TotalReviews  \\\n",
       "count  9269.000000  9269.000000     9.269000e+03  9.269000e+03   \n",
       "mean      0.449563     0.218254     8.497340e+03  9.664048e+03   \n",
       "std       0.497476     0.413083     8.242057e+04  9.349746e+04   \n",
       "min       0.000000     0.000000     6.000000e+00  9.000000e+00   \n",
       "25%       0.000000     0.000000     2.140000e+02  2.550000e+02   \n",
       "50%       0.000000     0.000000     7.590000e+02  9.010000e+02   \n",
       "75%       1.000000     0.000000     3.060000e+03  3.605000e+03   \n",
       "max       1.000000     1.000000     6.845621e+06  7.809836e+06   \n",
       "\n",
       "       NegativeReviews  OriginalPrice  DiscountPercent  DiscountedPrice  \n",
       "count      9269.000000   9.269000e+03      9269.000000     9.269000e+03  \n",
       "mean       1166.707628   2.366783e+05         0.444999     1.210667e+05  \n",
       "std       11853.418491   2.129635e+05         0.270401     1.361701e+05  \n",
       "min           0.000000   0.000000e+00         0.000000     0.000000e+00  \n",
       "25%          27.000000   1.200000e+05         0.250000     4.625000e+04  \n",
       "50%         111.000000   1.880000e+05         0.500000     8.460000e+04  \n",
       "75%         470.000000   2.600000e+05         0.700000     1.505000e+05  \n",
       "max      964215.000000   2.400000e+06         0.980000     2.400000e+06  "
      ]
     },
     "execution_count": 25,
     "metadata": {},
     "output_type": "execute_result"
    }
   ],
   "source": [
    "numeric_df = df.select_dtypes(include='number')\n",
    "numeric_df.describe()"
   ]
  },
  {
   "cell_type": "markdown",
   "metadata": {},
   "source": [
    "### Quan sát bảng mô tả số liệu ta thấy:\n",
    "- Ta thấy trong dữ liệu sau khi loại bỏ các missing value thì còn 1728 dòng.\n",
    "- Số điểm trung bình của tất cả các game là xấp xỉ 0.9, số điểm thấp nhất là 0.76, và cao nhất là 0.97."
   ]
  },
  {
   "cell_type": "markdown",
   "metadata": {},
   "source": [
    "### 3.1 Kiểm tra xem dữ liệu có giá những giá trị ngoại lai `outliers` không:"
   ]
  },
  {
   "cell_type": "code",
   "execution_count": 26,
   "metadata": {},
   "outputs": [
    {
     "data": {
      "text/plain": [
       "<Figure size 4000x9000 with 0 Axes>"
      ]
     },
     "metadata": {},
     "output_type": "display_data"
    },
    {
     "data": {
      "image/png": "[encoded data removed]",
      "text/plain": [
       "<Figure size 640x480 with 1 Axes>"
      ]
     },
     "metadata": {},
     "output_type": "display_data"
    }
   ],
   "source": [
    "numeric_cols = ['PositiveReviews', 'NegativeReviews', 'TotalReviews', 'OriginalPrice', 'DiscountedPrice', 'DiscountPercent']\n",
    "plt.figure(figsize=(40,90))\n",
    "df[numeric_cols].plot(kind='box')\n",
    "plt.xticks(rotation=90)\n",
    "plt.show()"
   ]
  },
  {
   "cell_type": "markdown",
   "metadata": {},
   "source": [
    "Ta thấy những giá trị này có một số `outliers`. Giờ ta sẽ tiến hành xóa các dòng chứa giá trị này"
   ]
  },
  {
   "cell_type": "code",
   "execution_count": 27,
   "metadata": {},
   "outputs": [],
   "source": [
    "# Hàm loại bỏ giá trị ngoại lai\n",
    "from typing import Tuple\n",
    "from sklearn.base import BaseEstimator, TransformerMixin\n",
    "\n",
    "def find_boxplot_boundaries(\n",
    "    col: pd.Series, whisker_coeff: float = 1.5\n",
    ") -> Tuple[float, float]:\n",
    "    \"\"\"Findx minimum and maximum in boxplot.\n",
    "\n",
    "    Args:\n",
    "        col: a pandas serires of input.\n",
    "        whisker_coeff: whisker coefficient in box plot\n",
    "    \"\"\"\n",
    "    Q1 = col.quantile(0.25)\n",
    "    Q3 = col.quantile(0.75)\n",
    "    IQR = Q3 - Q1\n",
    "    lower = Q1 - whisker_coeff * IQR\n",
    "    upper = Q3 + whisker_coeff * IQR\n",
    "    return lower, upper\n",
    "\n",
    "class BoxplotOutlierClipper(BaseEstimator, TransformerMixin):\n",
    "    def __init__(self, whisker_coeff: float = 1.5):\n",
    "        self.whisker = whisker_coeff\n",
    "        self.lower = None\n",
    "        self.upper = None\n",
    "\n",
    "    def fit(self, X: pd.Series):\n",
    "        self.lower, self.upper = find_boxplot_boundaries(X, self.whisker)\n",
    "        return self\n",
    "\n",
    "    def transform(self, X):\n",
    "        return X.clip(self.lower, self.upper)"
   ]
  },
  {
   "cell_type": "markdown",
   "metadata": {},
   "source": [
    "Xóa các outliers:"
   ]
  },
  {
   "cell_type": "code",
   "execution_count": 28,
   "metadata": {},
   "outputs": [],
   "source": [
    "numeric_cols = ['PositiveReviews', 'NegativeReviews', 'TotalReviews', 'OriginalPrice', 'DiscountedPrice', 'DiscountPercent']\n",
    "for col in numeric_cols:\n",
    "    df[col] = BoxplotOutlierClipper().fit_transform(df[col])\n",
    "# df.reset_index(inplace=True, drop=True)"
   ]
  },
  {
   "cell_type": "code",
   "execution_count": 29,
   "metadata": {},
   "outputs": [
    {
     "data": {
      "text/plain": [
       "<Figure size 7000x9000 with 0 Axes>"
      ]
     },
     "metadata": {},
     "output_type": "display_data"
    },
    {
     "data": {
      "image/png": "[encoded data removed]",
      "text/plain": [
       "<Figure size 640x480 with 1 Axes>"
      ]
     },
     "metadata": {},
     "output_type": "display_data"
    }
   ],
   "source": [
    "plt.figure(figsize=(70,90))\n",
    "df[numeric_cols].plot(kind='box')\n",
    "plt.xticks(rotation=90)\n",
    "plt.show()"
   ]
  },
  {
   "cell_type": "markdown",
   "metadata": {},
   "source": [
    "### 3.2 Kiểm tra xem có bao nhiêu thể loại (Genre) từ những game ta đọc được?\n",
    "- Việc này sẽ giúp ta lựa chọn kiểu encoding cho các dữ liệu categorical một cách hợp lí."
   ]
  },
  {
   "cell_type": "markdown",
   "metadata": {},
   "source": [
    "Trước hết ta sẽ kiểm tra xem những giá trị unique trong `Genre`:"
   ]
  },
  {
   "cell_type": "code",
   "execution_count": 30,
   "metadata": {},
   "outputs": [],
   "source": [
    "def get_unique_values(feature):\n",
    "    temp = df[feature]\n",
    "    feature_as_str = ', '.join(temp).split(', ')\n",
    "    feature_as_str = set(feature_as_str)\n",
    "    return len(feature_as_str)"
   ]
  },
  {
   "cell_type": "markdown",
   "metadata": {},
   "source": [
    "Lấy số lượng các unique `Genre`: "
   ]
  },
  {
   "cell_type": "code",
   "execution_count": 31,
   "metadata": {},
   "outputs": [
    {
     "name": "stdout",
     "output_type": "stream",
     "text": [
      "Số lượng unique genre: 15\n"
     ]
    }
   ],
   "source": [
    "unique_genres = get_unique_values('Genre')\n",
    "print(f'Số lượng unique genre: {unique_genres}')"
   ]
  },
  {
   "cell_type": "markdown",
   "metadata": {},
   "source": [
    "Ta thử kiểm tra xem những genre được phân bố như thế nào:"
   ]
  },
  {
   "cell_type": "code",
   "execution_count": 32,
   "metadata": {},
   "outputs": [],
   "source": [
    "def get_distributed_cat(feature):\n",
    "    temp = df[feature]\n",
    "    feature_as_str = ', '.join(temp).split(', ')\n",
    "    distributed_dict = {}\n",
    "    \n",
    "    for index, item in temp.items():\n",
    "        \n",
    "        for element in item.split(', '):\n",
    "            if element in distributed_dict:\n",
    "                # If this tag already existed in the dictionary, increase the count\n",
    "                distributed_dict[element] += 1\n",
    "            else:\n",
    "                # Else add the tag in the dictionary with count 1\n",
    "                distributed_dict[element] = 1\n",
    "        \n",
    "    return distributed_dict"
   ]
  },
  {
   "cell_type": "code",
   "execution_count": 33,
   "metadata": {},
   "outputs": [
    {
     "name": "stdout",
     "output_type": "stream",
     "text": [
      "{'Indie': 5235, 'Adventure': 4025, 'Action': 4012, 'Simulation': 2437, 'RPG': 2415, 'Casual': 2406, 'Strategy': 2281, 'Early Access': 896, 'Free to Play': 449, 'Sports': 407, 'Massively Multiplayer': 337, 'Racing': 333, 'Utilities': 2, 'Audio Production': 1, 'Education': 1}\n"
     ]
    },
    {
     "data": {
      "text/plain": [
       "<Axes: title={'center': 'Phân bố genre'}>"
      ]
     },
     "execution_count": 33,
     "metadata": {},
     "output_type": "execute_result"
    },
    {
     "data": {
      "image/png": "[encoded data removed]",
      "text/plain": [
       "<Figure size 600x1500 with 1 Axes>"
      ]
     },
     "metadata": {},
     "output_type": "display_data"
    }
   ],
   "source": [
    "distributed_genre = get_distributed_cat('Genre')\n",
    "distributed_genre = dict(sorted(distributed_genre.items(), key=lambda item: item[1],reverse=True))\n",
    "print(distributed_genre)\n",
    "f, ax = plt.subplots(figsize=(6, 15))\n",
    "plt.title(\"Phân bố genre\")\n",
    "sns.barplot(x=list(distributed_genre.values()), y=list(distributed_genre.keys()), ax=ax)"
   ]
  },
  {
   "cell_type": "markdown",
   "metadata": {},
   "source": [
    "Nhìn trên biểu đồ, ta thấy số lượng game có genre là `Indie` chiếm rất nhiều, trong khi đó một số genre chỉ được chỉ có trong 1 game mà chúng ta đã thu thập.\n",
    "\n",
    "Tiếp theo ta thử kiểm tra số lượng các `Tags` như thế nào:"
   ]
  },
  {
   "cell_type": "code",
   "execution_count": 34,
   "metadata": {},
   "outputs": [
    {
     "name": "stdout",
     "output_type": "stream",
     "text": [
      "Số lượng unique tag: 441\n"
     ]
    }
   ],
   "source": [
    "unique_tags = get_unique_values('Tags')\n",
    "print(f'Số lượng unique tag: {unique_tags}')"
   ]
  },
  {
   "cell_type": "markdown",
   "metadata": {},
   "source": [
    "Số lượng tag là 358, quá nhiều để thể hiện lên trên biểu đồ. Do đó ta sẽ chỉ lấy những tag có phân bố lớn nhất (khoảng 20) để vẽ biểu đồ:"
   ]
  },
  {
   "cell_type": "code",
   "execution_count": 35,
   "metadata": {},
   "outputs": [
    {
     "data": {
      "text/plain": [
       "<Axes: title={'center': 'Phân bố tag'}>"
      ]
     },
     "execution_count": 35,
     "metadata": {},
     "output_type": "execute_result"
    },
    {
     "data": {
      "image/png": "[encoded data removed]",
      "text/plain": [
       "<Figure size 600x1500 with 1 Axes>"
      ]
     },
     "metadata": {},
     "output_type": "display_data"
    }
   ],
   "source": [
    "distributed_tag = get_distributed_cat('Tags')\n",
    "distributed_tag = dict(sorted(distributed_tag.items(), key=lambda item: item[1], reverse=True))\n",
    "# print(distributed_tag)\n",
    "f, ax = plt.subplots(figsize=(6, 15))\n",
    "plt.title(\"Phân bố tag\")\n",
    "sns.barplot(x=list(distributed_tag.values())[:20], y=list(distributed_tag.keys())[:20], ax=ax)"
   ]
  },
  {
   "cell_type": "markdown",
   "metadata": {},
   "source": [
    "Theo như quan sát và tìm hiểu, thì `Genre` được phân loại theo đặc trưng chính và tổng quát của game, còn `Tags` là phân loại theo các yếu tố, nội dung trong game một cách chi tiết hơn.\\\n",
    "Hơn nữa do số lượng tag quá lớn có thể dẫn đến khó encode và ảnh hưởng đến hiệu năng của mô hình, ta nên drop nó và chỉ cần giữ lại `Genre`."
   ]
  },
  {
   "cell_type": "code",
   "execution_count": 36,
   "metadata": {},
   "outputs": [
    {
     "data": {
      "text/html": [
       "<div>\n",
       "<style scoped>\n",
       "    .dataframe tbody tr th:only-of-type {\n",
       "        vertical-align: middle;\n",
       "    }\n",
       "\n",
       "    .dataframe tbody tr th {\n",
       "        vertical-align: top;\n",
       "    }\n",
       "\n",
       "    .dataframe thead th {\n",
       "        text-align: right;\n",
       "    }\n",
       "</style>\n",
       "<table border=\"1\" class=\"dataframe\">\n",
       "  <thead>\n",
       "    <tr style=\"text-align: right;\">\n",
       "      <th></th>\n",
       "      <th>Title</th>\n",
       "      <th>Genre</th>\n",
       "      <th>withDLC</th>\n",
       "      <th>isMature</th>\n",
       "      <th>ReleaseDate</th>\n",
       "      <th>Developer</th>\n",
       "      <th>Publisher</th>\n",
       "      <th>Languages</th>\n",
       "      <th>PositiveReviews</th>\n",
       "      <th>TotalReviews</th>\n",
       "      <th>NegativeReviews</th>\n",
       "      <th>OriginalPrice</th>\n",
       "      <th>DiscountPercent</th>\n",
       "      <th>DiscountedPrice</th>\n",
       "    </tr>\n",
       "  </thead>\n",
       "  <tbody>\n",
       "    <tr>\n",
       "      <th>0</th>\n",
       "      <td>Baldur's Gate 3</td>\n",
       "      <td>Adventure, RPG, Strategy</td>\n",
       "      <td>1.0</td>\n",
       "      <td>1.0</td>\n",
       "      <td>2023-08-03</td>\n",
       "      <td>Larian Studios</td>\n",
       "      <td>Larian Studios</td>\n",
       "      <td>English, French, German, Spanish - Spain, Poli...</td>\n",
       "      <td>7329.0</td>\n",
       "      <td>8630.0</td>\n",
       "      <td>1134.5</td>\n",
       "      <td>470000.0</td>\n",
       "      <td>0.1</td>\n",
       "      <td>306875.0</td>\n",
       "    </tr>\n",
       "    <tr>\n",
       "      <th>1</th>\n",
       "      <td>Counter-Strike 2</td>\n",
       "      <td>Action, Free to Play</td>\n",
       "      <td>1.0</td>\n",
       "      <td>1.0</td>\n",
       "      <td>2012-08-21</td>\n",
       "      <td>Valve</td>\n",
       "      <td>Valve</td>\n",
       "      <td>English, Czech, Danish, Dutch, Finnish, French...</td>\n",
       "      <td>7329.0</td>\n",
       "      <td>8630.0</td>\n",
       "      <td>1134.5</td>\n",
       "      <td>0.0</td>\n",
       "      <td>0.0</td>\n",
       "      <td>0.0</td>\n",
       "    </tr>\n",
       "    <tr>\n",
       "      <th>2</th>\n",
       "      <td>Lethal Company</td>\n",
       "      <td>Action, Adventure, Indie, Early Access</td>\n",
       "      <td>0.0</td>\n",
       "      <td>1.0</td>\n",
       "      <td>2023-10-23</td>\n",
       "      <td>Zeekerss</td>\n",
       "      <td>Zeekerss</td>\n",
       "      <td>English</td>\n",
       "      <td>7329.0</td>\n",
       "      <td>8630.0</td>\n",
       "      <td>1134.5</td>\n",
       "      <td>142000.0</td>\n",
       "      <td>0.0</td>\n",
       "      <td>142000.0</td>\n",
       "    </tr>\n",
       "    <tr>\n",
       "      <th>3</th>\n",
       "      <td>Cyberpunk 2077</td>\n",
       "      <td>RPG</td>\n",
       "      <td>1.0</td>\n",
       "      <td>1.0</td>\n",
       "      <td>2020-12-09</td>\n",
       "      <td>CD PROJEKT RED</td>\n",
       "      <td>CD PROJEKT RED</td>\n",
       "      <td>English, French, Italian, German, Spanish - Sp...</td>\n",
       "      <td>7329.0</td>\n",
       "      <td>8630.0</td>\n",
       "      <td>1134.5</td>\n",
       "      <td>470000.0</td>\n",
       "      <td>0.5</td>\n",
       "      <td>306875.0</td>\n",
       "    </tr>\n",
       "    <tr>\n",
       "      <th>4</th>\n",
       "      <td>ELDEN RING</td>\n",
       "      <td>Action, RPG</td>\n",
       "      <td>0.0</td>\n",
       "      <td>1.0</td>\n",
       "      <td>2022-02-24</td>\n",
       "      <td>FromSoftware Inc.</td>\n",
       "      <td>FromSoftware Inc.</td>\n",
       "      <td>English, French, Italian, German, Spanish - Sp...</td>\n",
       "      <td>7329.0</td>\n",
       "      <td>8630.0</td>\n",
       "      <td>1134.5</td>\n",
       "      <td>470000.0</td>\n",
       "      <td>0.4</td>\n",
       "      <td>306875.0</td>\n",
       "    </tr>\n",
       "    <tr>\n",
       "      <th>...</th>\n",
       "      <td>...</td>\n",
       "      <td>...</td>\n",
       "      <td>...</td>\n",
       "      <td>...</td>\n",
       "      <td>...</td>\n",
       "      <td>...</td>\n",
       "      <td>...</td>\n",
       "      <td>...</td>\n",
       "      <td>...</td>\n",
       "      <td>...</td>\n",
       "      <td>...</td>\n",
       "      <td>...</td>\n",
       "      <td>...</td>\n",
       "      <td>...</td>\n",
       "    </tr>\n",
       "    <tr>\n",
       "      <th>9575</th>\n",
       "      <td>Furry Boss 💼</td>\n",
       "      <td>Adventure, Casual, Indie, Simulation</td>\n",
       "      <td>1.0</td>\n",
       "      <td>1.0</td>\n",
       "      <td>2023-12-02</td>\n",
       "      <td>Dirty Fox Games</td>\n",
       "      <td>Dirty Fox Games</td>\n",
       "      <td>English</td>\n",
       "      <td>18.0</td>\n",
       "      <td>18.0</td>\n",
       "      <td>0.0</td>\n",
       "      <td>73500.0</td>\n",
       "      <td>0.0</td>\n",
       "      <td>73500.0</td>\n",
       "    </tr>\n",
       "    <tr>\n",
       "      <th>9576</th>\n",
       "      <td>Khimera: Puzzle Island</td>\n",
       "      <td>Adventure, Casual, Indie</td>\n",
       "      <td>1.0</td>\n",
       "      <td>0.0</td>\n",
       "      <td>2020-11-29</td>\n",
       "      <td>Suits &amp; Sandals</td>\n",
       "      <td>Suits &amp; Sandals</td>\n",
       "      <td>English, Japanese</td>\n",
       "      <td>184.0</td>\n",
       "      <td>190.0</td>\n",
       "      <td>6.0</td>\n",
       "      <td>73500.0</td>\n",
       "      <td>0.9</td>\n",
       "      <td>7350.0</td>\n",
       "    </tr>\n",
       "    <tr>\n",
       "      <th>9579</th>\n",
       "      <td>HeXen II</td>\n",
       "      <td>Action</td>\n",
       "      <td>0.0</td>\n",
       "      <td>0.0</td>\n",
       "      <td>1998-03-27</td>\n",
       "      <td>Raven Software</td>\n",
       "      <td>id Software</td>\n",
       "      <td>English</td>\n",
       "      <td>372.0</td>\n",
       "      <td>453.0</td>\n",
       "      <td>81.0</td>\n",
       "      <td>112500.0</td>\n",
       "      <td>0.7</td>\n",
       "      <td>33750.0</td>\n",
       "    </tr>\n",
       "    <tr>\n",
       "      <th>9581</th>\n",
       "      <td>Time Commando</td>\n",
       "      <td>Action</td>\n",
       "      <td>0.0</td>\n",
       "      <td>0.0</td>\n",
       "      <td>1996-07-31</td>\n",
       "      <td>[2.21]</td>\n",
       "      <td>[2.21]</td>\n",
       "      <td>English</td>\n",
       "      <td>57.0</td>\n",
       "      <td>61.0</td>\n",
       "      <td>4.0</td>\n",
       "      <td>87500.0</td>\n",
       "      <td>0.0</td>\n",
       "      <td>87500.0</td>\n",
       "    </tr>\n",
       "    <tr>\n",
       "      <th>9582</th>\n",
       "      <td>DREAM LOGIC</td>\n",
       "      <td>Adventure, Indie</td>\n",
       "      <td>0.0</td>\n",
       "      <td>1.0</td>\n",
       "      <td>2022-09-06</td>\n",
       "      <td>Teleopsia Games</td>\n",
       "      <td>Teleopsia Games</td>\n",
       "      <td>English</td>\n",
       "      <td>221.0</td>\n",
       "      <td>246.0</td>\n",
       "      <td>25.0</td>\n",
       "      <td>73500.0</td>\n",
       "      <td>0.0</td>\n",
       "      <td>73500.0</td>\n",
       "    </tr>\n",
       "  </tbody>\n",
       "</table>\n",
       "<p>9269 rows × 14 columns</p>\n",
       "</div>"
      ],
      "text/plain": [
       "                       Title                                   Genre  withDLC  \\\n",
       "0            Baldur's Gate 3                Adventure, RPG, Strategy      1.0   \n",
       "1           Counter-Strike 2                    Action, Free to Play      1.0   \n",
       "2             Lethal Company  Action, Adventure, Indie, Early Access      0.0   \n",
       "3             Cyberpunk 2077                                     RPG      1.0   \n",
       "4                 ELDEN RING                             Action, RPG      0.0   \n",
       "...                      ...                                     ...      ...   \n",
       "9575            Furry Boss 💼    Adventure, Casual, Indie, Simulation      1.0   \n",
       "9576  Khimera: Puzzle Island                Adventure, Casual, Indie      1.0   \n",
       "9579                HeXen II                                  Action      0.0   \n",
       "9581           Time Commando                                  Action      0.0   \n",
       "9582             DREAM LOGIC                        Adventure, Indie      0.0   \n",
       "\n",
       "      isMature ReleaseDate          Developer          Publisher  \\\n",
       "0          1.0  2023-08-03     Larian Studios     Larian Studios   \n",
       "1          1.0  2012-08-21              Valve              Valve   \n",
       "2          1.0  2023-10-23           Zeekerss           Zeekerss   \n",
       "3          1.0  2020-12-09     CD PROJEKT RED     CD PROJEKT RED   \n",
       "4          1.0  2022-02-24  FromSoftware Inc.  FromSoftware Inc.   \n",
       "...        ...         ...                ...                ...   \n",
       "9575       1.0  2023-12-02    Dirty Fox Games    Dirty Fox Games   \n",
       "9576       0.0  2020-11-29    Suits & Sandals    Suits & Sandals   \n",
       "9579       0.0  1998-03-27     Raven Software        id Software   \n",
       "9581       0.0  1996-07-31             [2.21]             [2.21]   \n",
       "9582       1.0  2022-09-06    Teleopsia Games    Teleopsia Games   \n",
       "\n",
       "                                              Languages  PositiveReviews  \\\n",
       "0     English, French, German, Spanish - Spain, Poli...           7329.0   \n",
       "1     English, Czech, Danish, Dutch, Finnish, French...           7329.0   \n",
       "2                                               English           7329.0   \n",
       "3     English, French, Italian, German, Spanish - Sp...           7329.0   \n",
       "4     English, French, Italian, German, Spanish - Sp...           7329.0   \n",
       "...                                                 ...              ...   \n",
       "9575                                            English             18.0   \n",
       "9576                                  English, Japanese            184.0   \n",
       "9579                                            English            372.0   \n",
       "9581                                            English             57.0   \n",
       "9582                                            English            221.0   \n",
       "\n",
       "      TotalReviews  NegativeReviews  OriginalPrice  DiscountPercent  \\\n",
       "0           8630.0           1134.5       470000.0              0.1   \n",
       "1           8630.0           1134.5            0.0              0.0   \n",
       "2           8630.0           1134.5       142000.0              0.0   \n",
       "3           8630.0           1134.5       470000.0              0.5   \n",
       "4           8630.0           1134.5       470000.0              0.4   \n",
       "...            ...              ...            ...              ...   \n",
       "9575          18.0              0.0        73500.0              0.0   \n",
       "9576         190.0              6.0        73500.0              0.9   \n",
       "9579         453.0             81.0       112500.0              0.7   \n",
       "9581          61.0              4.0        87500.0              0.0   \n",
       "9582         246.0             25.0        73500.0              0.0   \n",
       "\n",
       "      DiscountedPrice  \n",
       "0            306875.0  \n",
       "1                 0.0  \n",
       "2            142000.0  \n",
       "3            306875.0  \n",
       "4            306875.0  \n",
       "...               ...  \n",
       "9575          73500.0  \n",
       "9576           7350.0  \n",
       "9579          33750.0  \n",
       "9581          87500.0  \n",
       "9582          73500.0  \n",
       "\n",
       "[9269 rows x 14 columns]"
      ]
     },
     "execution_count": 36,
     "metadata": {},
     "output_type": "execute_result"
    }
   ],
   "source": [
    "df.drop('Tags', axis=1, inplace=True)\n",
    "df"
   ]
  },
  {
   "cell_type": "markdown",
   "metadata": {},
   "source": [
    "### 3.3 Số hóa các feature"
   ]
  },
  {
   "cell_type": "markdown",
   "metadata": {},
   "source": [
    "Ở đây, ta sẽ bắt đầu số hóa các dữ liệu category, datetime và boolean để chuẩn bị cho huấn luyện mô hình\n",
    "\n",
    "Đầu tiên là số hóa cột datetime và boolean:"
   ]
  },
  {
   "cell_type": "code",
   "execution_count": 37,
   "metadata": {},
   "outputs": [],
   "source": [
    "df[['withDLC', 'isMature']] = df[['withDLC', 'isMature']].replace({True: 1, False: 0})\n",
    "df['ReleaseYear'] = df['ReleaseDate'].dt.year\n",
    "df['ReleaseMonth'] = df['ReleaseDate'].dt.month\n",
    "df['ReleaseDay'] = df['ReleaseDate'].dt.day"
   ]
  },
  {
   "cell_type": "markdown",
   "metadata": {},
   "source": [
    "Sau khi số hóa cột datetime, ta tiến hành drop cột `ReleaseDate`:"
   ]
  },
  {
   "cell_type": "code",
   "execution_count": 38,
   "metadata": {},
   "outputs": [
    {
     "data": {
      "text/html": [
       "<div>\n",
       "<style scoped>\n",
       "    .dataframe tbody tr th:only-of-type {\n",
       "        vertical-align: middle;\n",
       "    }\n",
       "\n",
       "    .dataframe tbody tr th {\n",
       "        vertical-align: top;\n",
       "    }\n",
       "\n",
       "    .dataframe thead th {\n",
       "        text-align: right;\n",
       "    }\n",
       "</style>\n",
       "<table border=\"1\" class=\"dataframe\">\n",
       "  <thead>\n",
       "    <tr style=\"text-align: right;\">\n",
       "      <th></th>\n",
       "      <th>Title</th>\n",
       "      <th>Genre</th>\n",
       "      <th>withDLC</th>\n",
       "      <th>isMature</th>\n",
       "      <th>Developer</th>\n",
       "      <th>Publisher</th>\n",
       "      <th>Languages</th>\n",
       "      <th>PositiveReviews</th>\n",
       "      <th>TotalReviews</th>\n",
       "      <th>NegativeReviews</th>\n",
       "      <th>OriginalPrice</th>\n",
       "      <th>DiscountPercent</th>\n",
       "      <th>DiscountedPrice</th>\n",
       "      <th>ReleaseYear</th>\n",
       "      <th>ReleaseMonth</th>\n",
       "      <th>ReleaseDay</th>\n",
       "    </tr>\n",
       "  </thead>\n",
       "  <tbody>\n",
       "    <tr>\n",
       "      <th>0</th>\n",
       "      <td>Baldur's Gate 3</td>\n",
       "      <td>Adventure, RPG, Strategy</td>\n",
       "      <td>1.0</td>\n",
       "      <td>1.0</td>\n",
       "      <td>Larian Studios</td>\n",
       "      <td>Larian Studios</td>\n",
       "      <td>English, French, German, Spanish - Spain, Poli...</td>\n",
       "      <td>7329.0</td>\n",
       "      <td>8630.0</td>\n",
       "      <td>1134.5</td>\n",
       "      <td>470000.0</td>\n",
       "      <td>0.1</td>\n",
       "      <td>306875.0</td>\n",
       "      <td>2023</td>\n",
       "      <td>8</td>\n",
       "      <td>3</td>\n",
       "    </tr>\n",
       "    <tr>\n",
       "      <th>1</th>\n",
       "      <td>Counter-Strike 2</td>\n",
       "      <td>Action, Free to Play</td>\n",
       "      <td>1.0</td>\n",
       "      <td>1.0</td>\n",
       "      <td>Valve</td>\n",
       "      <td>Valve</td>\n",
       "      <td>English, Czech, Danish, Dutch, Finnish, French...</td>\n",
       "      <td>7329.0</td>\n",
       "      <td>8630.0</td>\n",
       "      <td>1134.5</td>\n",
       "      <td>0.0</td>\n",
       "      <td>0.0</td>\n",
       "      <td>0.0</td>\n",
       "      <td>2012</td>\n",
       "      <td>8</td>\n",
       "      <td>21</td>\n",
       "    </tr>\n",
       "    <tr>\n",
       "      <th>2</th>\n",
       "      <td>Lethal Company</td>\n",
       "      <td>Action, Adventure, Indie, Early Access</td>\n",
       "      <td>0.0</td>\n",
       "      <td>1.0</td>\n",
       "      <td>Zeekerss</td>\n",
       "      <td>Zeekerss</td>\n",
       "      <td>English</td>\n",
       "      <td>7329.0</td>\n",
       "      <td>8630.0</td>\n",
       "      <td>1134.5</td>\n",
       "      <td>142000.0</td>\n",
       "      <td>0.0</td>\n",
       "      <td>142000.0</td>\n",
       "      <td>2023</td>\n",
       "      <td>10</td>\n",
       "      <td>23</td>\n",
       "    </tr>\n",
       "    <tr>\n",
       "      <th>3</th>\n",
       "      <td>Cyberpunk 2077</td>\n",
       "      <td>RPG</td>\n",
       "      <td>1.0</td>\n",
       "      <td>1.0</td>\n",
       "      <td>CD PROJEKT RED</td>\n",
       "      <td>CD PROJEKT RED</td>\n",
       "      <td>English, French, Italian, German, Spanish - Sp...</td>\n",
       "      <td>7329.0</td>\n",
       "      <td>8630.0</td>\n",
       "      <td>1134.5</td>\n",
       "      <td>470000.0</td>\n",
       "      <td>0.5</td>\n",
       "      <td>306875.0</td>\n",
       "      <td>2020</td>\n",
       "      <td>12</td>\n",
       "      <td>9</td>\n",
       "    </tr>\n",
       "    <tr>\n",
       "      <th>4</th>\n",
       "      <td>ELDEN RING</td>\n",
       "      <td>Action, RPG</td>\n",
       "      <td>0.0</td>\n",
       "      <td>1.0</td>\n",
       "      <td>FromSoftware Inc.</td>\n",
       "      <td>FromSoftware Inc.</td>\n",
       "      <td>English, French, Italian, German, Spanish - Sp...</td>\n",
       "      <td>7329.0</td>\n",
       "      <td>8630.0</td>\n",
       "      <td>1134.5</td>\n",
       "      <td>470000.0</td>\n",
       "      <td>0.4</td>\n",
       "      <td>306875.0</td>\n",
       "      <td>2022</td>\n",
       "      <td>2</td>\n",
       "      <td>24</td>\n",
       "    </tr>\n",
       "    <tr>\n",
       "      <th>...</th>\n",
       "      <td>...</td>\n",
       "      <td>...</td>\n",
       "      <td>...</td>\n",
       "      <td>...</td>\n",
       "      <td>...</td>\n",
       "      <td>...</td>\n",
       "      <td>...</td>\n",
       "      <td>...</td>\n",
       "      <td>...</td>\n",
       "      <td>...</td>\n",
       "      <td>...</td>\n",
       "      <td>...</td>\n",
       "      <td>...</td>\n",
       "      <td>...</td>\n",
       "      <td>...</td>\n",
       "      <td>...</td>\n",
       "    </tr>\n",
       "    <tr>\n",
       "      <th>9575</th>\n",
       "      <td>Furry Boss 💼</td>\n",
       "      <td>Adventure, Casual, Indie, Simulation</td>\n",
       "      <td>1.0</td>\n",
       "      <td>1.0</td>\n",
       "      <td>Dirty Fox Games</td>\n",
       "      <td>Dirty Fox Games</td>\n",
       "      <td>English</td>\n",
       "      <td>18.0</td>\n",
       "      <td>18.0</td>\n",
       "      <td>0.0</td>\n",
       "      <td>73500.0</td>\n",
       "      <td>0.0</td>\n",
       "      <td>73500.0</td>\n",
       "      <td>2023</td>\n",
       "      <td>12</td>\n",
       "      <td>2</td>\n",
       "    </tr>\n",
       "    <tr>\n",
       "      <th>9576</th>\n",
       "      <td>Khimera: Puzzle Island</td>\n",
       "      <td>Adventure, Casual, Indie</td>\n",
       "      <td>1.0</td>\n",
       "      <td>0.0</td>\n",
       "      <td>Suits &amp; Sandals</td>\n",
       "      <td>Suits &amp; Sandals</td>\n",
       "      <td>English, Japanese</td>\n",
       "      <td>184.0</td>\n",
       "      <td>190.0</td>\n",
       "      <td>6.0</td>\n",
       "      <td>73500.0</td>\n",
       "      <td>0.9</td>\n",
       "      <td>7350.0</td>\n",
       "      <td>2020</td>\n",
       "      <td>11</td>\n",
       "      <td>29</td>\n",
       "    </tr>\n",
       "    <tr>\n",
       "      <th>9579</th>\n",
       "      <td>HeXen II</td>\n",
       "      <td>Action</td>\n",
       "      <td>0.0</td>\n",
       "      <td>0.0</td>\n",
       "      <td>Raven Software</td>\n",
       "      <td>id Software</td>\n",
       "      <td>English</td>\n",
       "      <td>372.0</td>\n",
       "      <td>453.0</td>\n",
       "      <td>81.0</td>\n",
       "      <td>112500.0</td>\n",
       "      <td>0.7</td>\n",
       "      <td>33750.0</td>\n",
       "      <td>1998</td>\n",
       "      <td>3</td>\n",
       "      <td>27</td>\n",
       "    </tr>\n",
       "    <tr>\n",
       "      <th>9581</th>\n",
       "      <td>Time Commando</td>\n",
       "      <td>Action</td>\n",
       "      <td>0.0</td>\n",
       "      <td>0.0</td>\n",
       "      <td>[2.21]</td>\n",
       "      <td>[2.21]</td>\n",
       "      <td>English</td>\n",
       "      <td>57.0</td>\n",
       "      <td>61.0</td>\n",
       "      <td>4.0</td>\n",
       "      <td>87500.0</td>\n",
       "      <td>0.0</td>\n",
       "      <td>87500.0</td>\n",
       "      <td>1996</td>\n",
       "      <td>7</td>\n",
       "      <td>31</td>\n",
       "    </tr>\n",
       "    <tr>\n",
       "      <th>9582</th>\n",
       "      <td>DREAM LOGIC</td>\n",
       "      <td>Adventure, Indie</td>\n",
       "      <td>0.0</td>\n",
       "      <td>1.0</td>\n",
       "      <td>Teleopsia Games</td>\n",
       "      <td>Teleopsia Games</td>\n",
       "      <td>English</td>\n",
       "      <td>221.0</td>\n",
       "      <td>246.0</td>\n",
       "      <td>25.0</td>\n",
       "      <td>73500.0</td>\n",
       "      <td>0.0</td>\n",
       "      <td>73500.0</td>\n",
       "      <td>2022</td>\n",
       "      <td>9</td>\n",
       "      <td>6</td>\n",
       "    </tr>\n",
       "  </tbody>\n",
       "</table>\n",
       "<p>9269 rows × 16 columns</p>\n",
       "</div>"
      ],
      "text/plain": [
       "                       Title                                   Genre  withDLC  \\\n",
       "0            Baldur's Gate 3                Adventure, RPG, Strategy      1.0   \n",
       "1           Counter-Strike 2                    Action, Free to Play      1.0   \n",
       "2             Lethal Company  Action, Adventure, Indie, Early Access      0.0   \n",
       "3             Cyberpunk 2077                                     RPG      1.0   \n",
       "4                 ELDEN RING                             Action, RPG      0.0   \n",
       "...                      ...                                     ...      ...   \n",
       "9575            Furry Boss 💼    Adventure, Casual, Indie, Simulation      1.0   \n",
       "9576  Khimera: Puzzle Island                Adventure, Casual, Indie      1.0   \n",
       "9579                HeXen II                                  Action      0.0   \n",
       "9581           Time Commando                                  Action      0.0   \n",
       "9582             DREAM LOGIC                        Adventure, Indie      0.0   \n",
       "\n",
       "      isMature          Developer          Publisher  \\\n",
       "0          1.0     Larian Studios     Larian Studios   \n",
       "1          1.0              Valve              Valve   \n",
       "2          1.0           Zeekerss           Zeekerss   \n",
       "3          1.0     CD PROJEKT RED     CD PROJEKT RED   \n",
       "4          1.0  FromSoftware Inc.  FromSoftware Inc.   \n",
       "...        ...                ...                ...   \n",
       "9575       1.0    Dirty Fox Games    Dirty Fox Games   \n",
       "9576       0.0    Suits & Sandals    Suits & Sandals   \n",
       "9579       0.0     Raven Software        id Software   \n",
       "9581       0.0             [2.21]             [2.21]   \n",
       "9582       1.0    Teleopsia Games    Teleopsia Games   \n",
       "\n",
       "                                              Languages  PositiveReviews  \\\n",
       "0     English, French, German, Spanish - Spain, Poli...           7329.0   \n",
       "1     English, Czech, Danish, Dutch, Finnish, French...           7329.0   \n",
       "2                                               English           7329.0   \n",
       "3     English, French, Italian, German, Spanish - Sp...           7329.0   \n",
       "4     English, French, Italian, German, Spanish - Sp...           7329.0   \n",
       "...                                                 ...              ...   \n",
       "9575                                            English             18.0   \n",
       "9576                                  English, Japanese            184.0   \n",
       "9579                                            English            372.0   \n",
       "9581                                            English             57.0   \n",
       "9582                                            English            221.0   \n",
       "\n",
       "      TotalReviews  NegativeReviews  OriginalPrice  DiscountPercent  \\\n",
       "0           8630.0           1134.5       470000.0              0.1   \n",
       "1           8630.0           1134.5            0.0              0.0   \n",
       "2           8630.0           1134.5       142000.0              0.0   \n",
       "3           8630.0           1134.5       470000.0              0.5   \n",
       "4           8630.0           1134.5       470000.0              0.4   \n",
       "...            ...              ...            ...              ...   \n",
       "9575          18.0              0.0        73500.0              0.0   \n",
       "9576         190.0              6.0        73500.0              0.9   \n",
       "9579         453.0             81.0       112500.0              0.7   \n",
       "9581          61.0              4.0        87500.0              0.0   \n",
       "9582         246.0             25.0        73500.0              0.0   \n",
       "\n",
       "      DiscountedPrice  ReleaseYear  ReleaseMonth  ReleaseDay  \n",
       "0            306875.0         2023             8           3  \n",
       "1                 0.0         2012             8          21  \n",
       "2            142000.0         2023            10          23  \n",
       "3            306875.0         2020            12           9  \n",
       "4            306875.0         2022             2          24  \n",
       "...               ...          ...           ...         ...  \n",
       "9575          73500.0         2023            12           2  \n",
       "9576           7350.0         2020            11          29  \n",
       "9579          33750.0         1998             3          27  \n",
       "9581          87500.0         1996             7          31  \n",
       "9582          73500.0         2022             9           6  \n",
       "\n",
       "[9269 rows x 16 columns]"
      ]
     },
     "execution_count": 38,
     "metadata": {},
     "output_type": "execute_result"
    }
   ],
   "source": [
    "df.drop('ReleaseDate', axis=1, inplace=True)\n",
    "df"
   ]
  },
  {
   "cell_type": "markdown",
   "metadata": {},
   "source": [
    "## 4. Tạo cột tính điểm cho game"
   ]
  },
  {
   "cell_type": "markdown",
   "metadata": {},
   "source": [
    "##### Ta sẽ sử dụng công thức sau để tính score_rating cho từng trò chơi điện tử dựa trên giá trị ở các cột Reviews với miền giá trị sau khi tính sẽ là [0, 1]\n",
    "- Total Reviews = Positive Reviews + Negative Reviews\n",
    "- Review Score = Positive Reviews / Total Reviews\n",
    "- $$Rating = Review Score - (Review Score - 0.5)*2^{-log_{10}(Total Reviews + 1)}$$\n",
    "\n",
    "\n",
    "Một số lý do để sử dụng công thức này:\n",
    "1. Tập trung vào các phản hồi tích cực, có nghĩa là mỗi phản hồi tích cực có tác động lớn hơn trên score_rating so với phản hồi tiêu cực\n",
    "2. Mặc dù công thức tập trung và nhấn mạnh phản hồi tích cực nhưng không bỏ qua bất kì phản hồi tiêu cực nào\n",
    "3. Có sự cân bằng khi ta cân nhắc phản hổi tích cực thật sự quan trọng hơn nhưng phản hồi tiêu cực cũng có ảnh hưởng nhất định"
   ]
  },
  {
   "cell_type": "code",
   "execution_count": 39,
   "metadata": {},
   "outputs": [
    {
     "data": {
      "text/html": [
       "<div>\n",
       "<style scoped>\n",
       "    .dataframe tbody tr th:only-of-type {\n",
       "        vertical-align: middle;\n",
       "    }\n",
       "\n",
       "    .dataframe tbody tr th {\n",
       "        vertical-align: top;\n",
       "    }\n",
       "\n",
       "    .dataframe thead th {\n",
       "        text-align: right;\n",
       "    }\n",
       "</style>\n",
       "<table border=\"1\" class=\"dataframe\">\n",
       "  <thead>\n",
       "    <tr style=\"text-align: right;\">\n",
       "      <th></th>\n",
       "      <th>Title</th>\n",
       "      <th>Genre</th>\n",
       "      <th>withDLC</th>\n",
       "      <th>isMature</th>\n",
       "      <th>Developer</th>\n",
       "      <th>Publisher</th>\n",
       "      <th>Languages</th>\n",
       "      <th>PositiveReviews</th>\n",
       "      <th>TotalReviews</th>\n",
       "      <th>NegativeReviews</th>\n",
       "      <th>OriginalPrice</th>\n",
       "      <th>DiscountPercent</th>\n",
       "      <th>DiscountedPrice</th>\n",
       "      <th>ReleaseYear</th>\n",
       "      <th>ReleaseMonth</th>\n",
       "      <th>ReleaseDay</th>\n",
       "      <th>Rating</th>\n",
       "    </tr>\n",
       "  </thead>\n",
       "  <tbody>\n",
       "  </tbody>\n",
       "</table>\n",
       "</div>"
      ],
      "text/plain": [
       "Empty DataFrame\n",
       "Columns: [Title, Genre, withDLC, isMature, Developer, Publisher, Languages, PositiveReviews, TotalReviews, NegativeReviews, OriginalPrice, DiscountPercent, DiscountedPrice, ReleaseYear, ReleaseMonth, ReleaseDay, Rating]\n",
       "Index: []"
      ]
     },
     "execution_count": 39,
     "metadata": {},
     "output_type": "execute_result"
    }
   ],
   "source": [
    "ReviewScore = df['PositiveReviews'] / df['TotalReviews']\n",
    "df['Rating'] = ReviewScore - (ReviewScore - 0.5) * pow(2, -np.log10(df['TotalReviews'] + 1))\n",
    "df[df['Rating'] > 1]"
   ]
  },
  {
   "cell_type": "markdown",
   "metadata": {},
   "source": [
    "**Tiền xử lí hoàn tất, ta xuất dữ liệu ra một file mới chuẩn bị cho giai đoạn học máy:**"
   ]
  },
  {
   "cell_type": "code",
   "execution_count": 40,
   "metadata": {},
   "outputs": [],
   "source": [
    "df.to_csv('../data/processed_data.csv', index=False)"
   ]
  }
 ],
 "metadata": {
  "kernelspec": {
   "display_name": "Python 3 (ipykernel)",
   "language": "python",
   "name": "python3"
  },
  "language_info": {
   "codemirror_mode": {
    "name": "ipython",
    "version": 3
   },
   "file_extension": ".py",
   "mimetype": "text/x-python",
   "name": "python",
   "nbconvert_exporter": "python",
   "pygments_lexer": "ipython3",
   "version": "3.11.5"
  }
 },
 "nbformat": 4,
 "nbformat_minor": 4
}
